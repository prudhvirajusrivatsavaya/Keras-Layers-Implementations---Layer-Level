{
 "cells": [
  {
   "cell_type": "code",
   "execution_count": 23,
   "id": "c324d3aa-9931-4daf-84d7-51e57ebe27c0",
   "metadata": {
    "scrolled": true
   },
   "outputs": [
    {
     "name": "stdout",
     "output_type": "stream",
     "text": [
      "Epoch 1/10\n",
      "25/25 [==============================] - 4s 36ms/step - loss: 1.1228 - accuracy: 0.3638 - val_loss: 1.1820 - val_accuracy: 0.3200\n",
      "Epoch 2/10\n",
      "25/25 [==============================] - 0s 5ms/step - loss: 1.1156 - accuracy: 0.3475 - val_loss: 1.1272 - val_accuracy: 0.3100\n",
      "Epoch 3/10\n",
      "25/25 [==============================] - 0s 5ms/step - loss: 1.1192 - accuracy: 0.3462 - val_loss: 1.1447 - val_accuracy: 0.2950\n",
      "Epoch 4/10\n",
      "25/25 [==============================] - 0s 5ms/step - loss: 1.1098 - accuracy: 0.3425 - val_loss: 1.1202 - val_accuracy: 0.2800\n",
      "Epoch 5/10\n",
      "25/25 [==============================] - 0s 5ms/step - loss: 1.1090 - accuracy: 0.3487 - val_loss: 1.1337 - val_accuracy: 0.2900\n",
      "Epoch 6/10\n",
      "25/25 [==============================] - 0s 5ms/step - loss: 1.1207 - accuracy: 0.3175 - val_loss: 1.1069 - val_accuracy: 0.2850\n",
      "Epoch 7/10\n",
      "25/25 [==============================] - 0s 5ms/step - loss: 1.1138 - accuracy: 0.3125 - val_loss: 1.1065 - val_accuracy: 0.2950\n",
      "Epoch 8/10\n",
      "25/25 [==============================] - 0s 5ms/step - loss: 1.1033 - accuracy: 0.3400 - val_loss: 1.0920 - val_accuracy: 0.4050\n",
      "Epoch 9/10\n",
      "25/25 [==============================] - 0s 5ms/step - loss: 1.1046 - accuracy: 0.3363 - val_loss: 1.1015 - val_accuracy: 0.3050\n",
      "Epoch 10/10\n",
      "25/25 [==============================] - 0s 5ms/step - loss: 1.1115 - accuracy: 0.3225 - val_loss: 1.0971 - val_accuracy: 0.3850\n"
     ]
    },
    {
     "data": {
      "text/plain": [
       "<keras.callbacks.History at 0x1beb183fee0>"
      ]
     },
     "execution_count": 23,
     "metadata": {},
     "output_type": "execute_result"
    }
   ],
   "source": [
    "import numpy as np\n",
    "import tensorflow as tf\n",
    "from tensorflow.keras.layers import Layer, Input, Dense, Bidirectional, LSTM\n",
    "from tensorflow.keras.models import Model\n",
    "from tensorflow.keras.utils import to_categorical\n",
    "from sklearn.model_selection import train_test_split\n",
    "import numpy as np\n",
    "\n",
    "# Generate random data\n",
    "input_shape = np.random.randint(0, 20, size=(1000, 64))\n",
    "output_data = np.random.randint(0, 3, size=(1000,))\n",
    "\n",
    "# One-hot encode the output data\n",
    "output_data_one_hot = to_categorical(output_data, num_classes=3)\n",
    "\n",
    "# Split the data into training and validation sets\n",
    "input_train, input_val, output_train, output_val = train_test_split(input_shape, output_data_one_hot, test_size=0.2, random_state=42)\n",
    "\n",
    "# Custom SelfAttention layer\n",
    "class SelfAttention(Layer):\n",
    "    def __init__(self, attention_units, **kwargs):\n",
    "        self.attention_units = attention_units\n",
    "        super(SelfAttention, self).__init__(**kwargs)\n",
    "\n",
    "    def build(self, input_shape):\n",
    "        self.W_q = self.add_weight(name=\"W_q\", shape=(input_shape[-1], self.attention_units), initializer=\"glorot_uniform\", trainable=True)\n",
    "        self.W_k = self.add_weight(name=\"W_k\", shape=(input_shape[-1], self.attention_units), initializer=\"glorot_uniform\", trainable=True)\n",
    "        self.W_v = self.add_weight(name=\"W_v\", shape=(input_shape[-1], input_shape[-1]), initializer=\"glorot_uniform\", trainable=True)\n",
    "        super(SelfAttention, self).build(input_shape)\n",
    "\n",
    "    def call(self, inputs):\n",
    "        Q = tf.matmul(inputs, self.W_q)\n",
    "        K = tf.matmul(inputs, self.W_k)\n",
    "        V = tf.matmul(inputs, self.W_v)\n",
    "        attention_scores = tf.matmul(Q, K, transpose_b=True)\n",
    "        attention_scores = tf.math.divide(attention_scores, tf.sqrt(tf.cast(tf.shape(K)[-1], tf.float32)))\n",
    "        attention_weights = tf.nn.softmax(attention_scores, axis=-1)\n",
    "        attended_values = tf.matmul(attention_weights, V)\n",
    "        return attended_values\n",
    "\n",
    "    def compute_output_shape(self, input_shape):\n",
    "        return input_shape\n",
    "\n",
    "# Model architecture\n",
    "input_sequence = Input(shape=(64,))\n",
    "attention_output = SelfAttention(32)(input_sequence)\n",
    "\n",
    "# Expand the dimensions to add a time dimension\n",
    "attention_output_expanded = tf.expand_dims(attention_output, axis=1)\n",
    "\n",
    "# Apply Bidirectional LSTM to the expanded attention output\n",
    "lstm_output = Bidirectional(LSTM(64, return_sequences=True))(attention_output_expanded)\n",
    "\n",
    "# Squeeze the time dimension\n",
    "lstm_output_squeezed = tf.squeeze(lstm_output, axis=1)\n",
    "\n",
    "output = Dense(3, activation='softmax')(lstm_output_squeezed)\n",
    "\n",
    "# Create the model\n",
    "model = Model(inputs=input_sequence, outputs=output)\n",
    "\n",
    "# Compile the model\n",
    "model.compile(optimizer='adam', loss='categorical_crossentropy', metrics=['accuracy'])\n",
    "\n",
    "# Train the model\n",
    "model.fit(input_train, output_train, validation_data=(input_val, output_val), epochs=10, batch_size=32)\n"
   ]
  },
  {
   "cell_type": "code",
   "execution_count": 24,
   "id": "671b94c5-d8a4-450e-b954-ee441eb21b97",
   "metadata": {},
   "outputs": [
    {
     "name": "stdout",
     "output_type": "stream",
     "text": [
      "Model: \"model_8\"\n",
      "_________________________________________________________________\n",
      " Layer (type)                Output Shape              Param #   \n",
      "=================================================================\n",
      " input_12 (InputLayer)       [(None, 64)]              0         \n",
      "                                                                 \n",
      " self_attention_7 (SelfAtten  (None, 64)               8192      \n",
      " tion)                                                           \n",
      "                                                                 \n",
      " tf.expand_dims_2 (TFOpLambd  (None, 1, 64)            0         \n",
      " a)                                                              \n",
      "                                                                 \n",
      " bidirectional_10 (Bidirecti  (None, 1, 128)           66048     \n",
      " onal)                                                           \n",
      "                                                                 \n",
      " tf.compat.v1.squeeze_2 (TFO  (None, 128)              0         \n",
      " pLambda)                                                        \n",
      "                                                                 \n",
      " dense_11 (Dense)            (None, 3)                 387       \n",
      "                                                                 \n",
      "=================================================================\n",
      "Total params: 74,627\n",
      "Trainable params: 74,627\n",
      "Non-trainable params: 0\n",
      "_________________________________________________________________\n"
     ]
    }
   ],
   "source": [
    "model.summary()"
   ]
  },
  {
   "cell_type": "code",
   "execution_count": 11,
   "id": "b9f84beb-d0db-425f-ab23-8d912bc38ba9",
   "metadata": {},
   "outputs": [
    {
     "data": {
      "text/plain": [
       "array([[0.17660614, 0.83233492, 0.19437931],\n",
       "       [0.32713838, 0.41190329, 0.81737711],\n",
       "       [0.56497652, 0.66910481, 0.15248696],\n",
       "       [0.92067507, 0.81342356, 0.79177651],\n",
       "       [0.01094447, 0.0255699 , 0.22837341],\n",
       "       [0.11355345, 0.00990296, 0.07672833],\n",
       "       [0.19579977, 0.22639979, 0.74433458],\n",
       "       [0.71469106, 0.23003615, 0.63695422],\n",
       "       [0.35846147, 0.3626864 , 0.16582222],\n",
       "       [0.75333162, 0.65145193, 0.99180525]])"
      ]
     },
     "execution_count": 11,
     "metadata": {},
     "output_type": "execute_result"
    }
   ],
   "source": [
    "data[0]"
   ]
  },
  {
   "cell_type": "code",
   "execution_count": 4,
   "id": "619bba44-58e9-41c1-a7d1-5f2565403525",
   "metadata": {
    "scrolled": true
   },
   "outputs": [
    {
     "ename": "TypeError",
     "evalue": "__init__() missing 2 required positional arguments: 'num_heads' and 'key_dim'",
     "output_type": "error",
     "traceback": [
      "\u001b[1;31m---------------------------------------------------------------------------\u001b[0m",
      "\u001b[1;31mTypeError\u001b[0m                                 Traceback (most recent call last)",
      "Cell \u001b[1;32mIn[4], line 19\u001b[0m\n\u001b[0;32m     16\u001b[0m bidirectional_lstm \u001b[38;5;241m=\u001b[39m Bidirectional(LSTM(\u001b[38;5;241m64\u001b[39m, return_sequences\u001b[38;5;241m=\u001b[39m\u001b[38;5;28;01mTrue\u001b[39;00m))(embedding_layer)\n\u001b[0;32m     18\u001b[0m \u001b[38;5;66;03m# Attention layer\u001b[39;00m\n\u001b[1;32m---> 19\u001b[0m attention \u001b[38;5;241m=\u001b[39m \u001b[43mMultiHeadAttention\u001b[49m\u001b[43m(\u001b[49m\u001b[43muse_scale\u001b[49m\u001b[38;5;241;43m=\u001b[39;49m\u001b[38;5;28;43;01mFalse\u001b[39;49;00m\u001b[43m,\u001b[49m\u001b[43m \u001b[49m\u001b[43mscore_mode\u001b[49m\u001b[38;5;241;43m=\u001b[39;49m\u001b[38;5;124;43m\"\u001b[39;49m\u001b[38;5;124;43mdot\u001b[39;49m\u001b[38;5;124;43m\"\u001b[39;49m\u001b[43m)\u001b[49m([bidirectional_lstm, bidirectional_lstm])\n\u001b[0;32m     21\u001b[0m \u001b[38;5;66;03m# Multiply attention output with bidirectional LSTM output\u001b[39;00m\n\u001b[0;32m     22\u001b[0m attended_output \u001b[38;5;241m=\u001b[39m tf\u001b[38;5;241m.\u001b[39mkeras\u001b[38;5;241m.\u001b[39mlayers\u001b[38;5;241m.\u001b[39mMultiply()([bidirectional_lstm, attention])\n",
      "\u001b[1;31mTypeError\u001b[0m: __init__() missing 2 required positional arguments: 'num_heads' and 'key_dim'"
     ]
    }
   ],
   "source": [
    "import numpy as np\n",
    "import tensorflow as tf\n",
    "from tensorflow.keras.layers import Input, Embedding, LSTM, Bidirectional, Dense, Attention, MultiHeadAttention\n",
    "\n",
    "# Generate random data\n",
    "input_shape = np.random.randint(0, 20, size=(1000, 64))\n",
    "output_data = np.random.randint(0, 3, size=(1000,))\n",
    "\n",
    "# Define the model\n",
    "input_layer = Input(shape=(64,))\n",
    "\n",
    "# Embedding layer\n",
    "embedding_layer = Embedding(input_dim=20, output_dim=50)(input_layer)  # Assuming your vocabulary size is 20\n",
    "\n",
    "# Bidirectional LSTM layer\n",
    "bidirectional_lstm = Bidirectional(LSTM(64, return_sequences=True))(embedding_layer)\n",
    "\n",
    "# Attention layer\n",
    "attention = Attention(use_scale=False, score_mode=\"dot\")([bidirectional_lstm, bidirectional_lstm])\n",
    "\n",
    "# Multiply attention output with bidirectional LSTM output\n",
    "attended_output = tf.keras.layers.Multiply()([bidirectional_lstm, attention])\n",
    "\n",
    "# LSTM layer\n",
    "lstm_layer = LSTM(32)(attended_output)\n",
    "\n",
    "# Dense layer\n",
    "output_layer = Dense(3, activation='softmax')(lstm_layer)  # Assuming you have 3 classes for classification\n",
    "\n",
    "# Create the model\n",
    "model = tf.keras.Model(inputs=input_layer, outputs=output_layer)\n",
    "\n",
    "# Compile the model\n",
    "model.compile(optimizer='adam', loss='sparse_categorical_crossentropy', metrics=['accuracy'])\n",
    "\n",
    "# Display the model summary\n",
    "model.summary()\n",
    "\n",
    "# Train the model (replace 'output_data' with your actual target data)\n",
    "model.fit(input_shape, output_data, epochs=10, batch_size=32, validation_split=0.2)\n"
   ]
  },
  {
   "cell_type": "code",
   "execution_count": null,
   "id": "c68a2fd5-64bb-42a4-8393-48853422ff39",
   "metadata": {},
   "outputs": [],
   "source": []
  }
 ],
 "metadata": {
  "kernelspec": {
   "display_name": "Python 3 (ipykernel)",
   "language": "python",
   "name": "python3"
  },
  "language_info": {
   "codemirror_mode": {
    "name": "ipython",
    "version": 3
   },
   "file_extension": ".py",
   "mimetype": "text/x-python",
   "name": "python",
   "nbconvert_exporter": "python",
   "pygments_lexer": "ipython3",
   "version": "3.9.17"
  }
 },
 "nbformat": 4,
 "nbformat_minor": 5
}
