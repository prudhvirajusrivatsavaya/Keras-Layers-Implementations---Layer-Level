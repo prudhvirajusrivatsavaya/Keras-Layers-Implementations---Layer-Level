{
 "cells": [
  {
   "cell_type": "code",
   "execution_count": null,
   "id": "03f90e63-2eaa-4b23-b0b6-d614b30d7b56",
   "metadata": {},
   "outputs": [],
   "source": [
    "# Flatten"
   ]
  },
  {
   "cell_type": "code",
   "execution_count": null,
   "id": "c1685cd7-7c7b-4ae9-b80a-70fbd8f3f23a",
   "metadata": {},
   "outputs": [],
   "source": [
    "import tensorflow as tf\n",
    "\n",
    "x = tf.keras.Input(shape=(28, 28, 1))\n",
    "\n",
    "conv1 = tf.keras.layers.Conv2D(filters=32, kernel_size=(3, 3), activation='relu')(x)\n",
    "pool1 = tf.keras.layers.MaxPooling2D(pool_size=(2, 2))(conv1)\n",
    "\n",
    "flatten = tf.keras.layers.Flatten()(pool1)\n",
    "\n",
    "fc1 = tf.keras.layers.Dense(units=128, activation='relu')(flatten)\n",
    "output = tf.keras.layers.Dense(units=10, activation='softmax')(fc1)\n",
    "\n",
    "model = tf.keras.Model(inputs=x, outputs=output)\n"
   ]
  },
  {
   "cell_type": "code",
   "execution_count": null,
   "id": "8a5773bb-ecd9-4252-8baf-1eec9e7d1cef",
   "metadata": {},
   "outputs": [],
   "source": [
    "# RepeatVector"
   ]
  },
  {
   "cell_type": "code",
   "execution_count": null,
   "id": "4f55b119-7145-4ef7-a465-b32be1880793",
   "metadata": {},
   "outputs": [],
   "source": [
    "import tensorflow as tf\n",
    "\n",
    "encoder_input = tf.keras.Input(shape=(max_length, embedding_dim))\n",
    "encoder = tf.keras.layers.LSTM(units=encoder_units, return_sequences=True)(encoder_input)\n",
    "encoder_output = tf.keras.layers.LSTM(units=encoder_units)(encoder)\n",
    "repeated_encoder_output = tf.keras.layers.RepeatVector(decoder_max_length)(encoder_output)\n",
    "decoder_input = tf.keras.Input(shape=(decoder_max_length,))\n",
    "decoder = tf.keras.layers.LSTM(units=decoder_units, return_sequences=True)([decoder_input, repeated_encoder_output])\n",
    "decoder_output = tf.keras.layers.TimeDistributed(tf.keras.layers.Dense(units=target_vocab_size))(decoder)\n",
    "\n",
    "model = tf.keras.Model(inputs=[encoder_input, decoder_input], outputs=decoder_output)\n"
   ]
  },
  {
   "cell_type": "code",
   "execution_count": null,
   "id": "8859492c-843b-4e8a-b3a3-91a83a5da782",
   "metadata": {},
   "outputs": [],
   "source": [
    "# Permute - Not much used"
   ]
  },
  {
   "cell_type": "code",
   "execution_count": 5,
   "id": "e8a53d74-b2dd-432f-9282-2318cea0bb28",
   "metadata": {},
   "outputs": [
    {
     "data": {
      "text/plain": [
       "<KerasTensor: shape=(None, 3, 5, 2) dtype=float32 (created by layer 'permute_4')>"
      ]
     },
     "execution_count": 5,
     "metadata": {},
     "output_type": "execute_result"
    }
   ],
   "source": [
    "import tensorflow as tf\n",
    "\n",
    "x = tf.keras.Input(shape=(3, 2, 5))\n",
    "permuted_x = tf.keras.layers.Permute((1,3,2))(x)\n",
    "permuted_x"
   ]
  },
  {
   "cell_type": "code",
   "execution_count": 6,
   "id": "711e2227-16a3-4cd2-ba10-d708803ad331",
   "metadata": {},
   "outputs": [],
   "source": [
    "# Cropping1D"
   ]
  },
  {
   "cell_type": "code",
   "execution_count": null,
   "id": "d2d256c9-c0ed-491e-8efe-db9e19c399d3",
   "metadata": {
    "scrolled": true
   },
   "outputs": [],
   "source": [
    "import tensorflow as tf\n",
    "\n",
    "model = tf.keras.Sequential([\n",
    "    tf.keras.layers.Cropping1D(cropping=(1, 1)),\n",
    "    tf.keras.layers.Embedding(input_dim=120, output_dim=60),\n",
    "    tf.keras.layers.Bidirectional(tf.keras.layers.LSTM(units=64, return_sequences=True)),\n",
    "    tf.keras.layers.GlobalMaxPooling1D(),\n",
    "    tf.keras.layers.Dense(units=64, activation='relu'),\n",
    "    tf.keras.layers.Dense(units=2, activation='softmax')\n",
    "])\n",
    "model.summary()"
   ]
  },
  {
   "cell_type": "code",
   "execution_count": null,
   "id": "c3505f27-c49f-4b06-adae-b5512ffcaa42",
   "metadata": {},
   "outputs": [],
   "source": [
    "# UpSampling1D"
   ]
  },
  {
   "cell_type": "code",
   "execution_count": null,
   "id": "3b206062-e466-4902-bb8b-941c194b36ee",
   "metadata": {},
   "outputs": [],
   "source": [
    "import tensorflow as tf\n",
    "\n",
    "model = tf.keras.Sequential([\n",
    "    tf.keras.layers.UpSampling1D(size=2),\n",
    "    tf.keras.layers.Conv1D(filters=32, kernel_size=3, activation='relu'),\n",
    "    tf.keras.layers.MaxPooling1D(pool_size=2),\n",
    "    tf.keras.layers.Conv1D(filters=64, kernel_size=3, activation='relu'),\n",
    "    tf.keras.layers.MaxPooling1D(pool_size=2),\n",
    "    tf.keras.layers.Flatten(),\n",
    "    tf.keras.layers.Dense(units=64, activation='relu'),\n",
    "    tf.keras.layers.Dense(units=10, activation='softmax')\n",
    "])\n"
   ]
  }
 ],
 "metadata": {
  "kernelspec": {
   "display_name": "Python 3 (ipykernel)",
   "language": "python",
   "name": "python3"
  },
  "language_info": {
   "codemirror_mode": {
    "name": "ipython",
    "version": 3
   },
   "file_extension": ".py",
   "mimetype": "text/x-python",
   "name": "python",
   "nbconvert_exporter": "python",
   "pygments_lexer": "ipython3",
   "version": "3.9.17"
  }
 },
 "nbformat": 4,
 "nbformat_minor": 5
}
