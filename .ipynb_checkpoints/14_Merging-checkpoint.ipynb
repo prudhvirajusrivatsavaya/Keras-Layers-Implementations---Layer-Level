{
 "cells": [
  {
   "cell_type": "code",
   "execution_count": null,
   "id": "ff6ad65f-d4da-4af6-b204-2fe59d11d730",
   "metadata": {},
   "outputs": [],
   "source": [
    "# Concatenate"
   ]
  },
  {
   "cell_type": "code",
   "execution_count": null,
   "id": "068b3209-fd9b-4b08-be7e-f479e7f9fc0b",
   "metadata": {},
   "outputs": [],
   "source": [
    "import tensorflow as tf\n",
    "from tensorflow.keras.layers import Embedding, Dense, Concatenate\n",
    "\n",
    "# Define the vocabulary size and embedding dimension\n",
    "vocab_size = 10000\n",
    "embedding_dim = 128\n",
    "\n",
    "# Create the embedding layer\n",
    "embedding_layer = Embedding(vocab_size, embedding_dim, input_length=max_length)\n",
    "\n",
    "# Define the dense layer\n",
    "dense_layer = Dense(64, activation='relu')\n",
    "\n",
    "# Create the concatenate layer\n",
    "concatenate_layer = Concatenate()\n",
    "\n",
    "# Define the model\n",
    "model = tf.keras.Sequential([\n",
    "    embedding_layer,\n",
    "    dense_layer,\n",
    "    concatenate_layer,\n",
    "    Dense(1, activation='sigmoid')\n",
    "])\n",
    "\n",
    "# Compile the model\n",
    "model.compile(loss='binary_crossentropy', optimizer='adam', metrics=['accuracy'])\n",
    "\n",
    "# Train the model\n",
    "model.fit(x_train, y_train, epochs=10)\n",
    "\n",
    "# Evaluate the model\n",
    "model.evaluate(x_test, y_test)\n"
   ]
  }
 ],
 "metadata": {
  "kernelspec": {
   "display_name": "Python 3 (ipykernel)",
   "language": "python",
   "name": "python3"
  },
  "language_info": {
   "codemirror_mode": {
    "name": "ipython",
    "version": 3
   },
   "file_extension": ".py",
   "mimetype": "text/x-python",
   "name": "python",
   "nbconvert_exporter": "python",
   "pygments_lexer": "ipython3",
   "version": "3.9.17"
  }
 },
 "nbformat": 4,
 "nbformat_minor": 5
}
