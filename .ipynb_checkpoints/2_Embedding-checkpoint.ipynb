{
 "cells": [
  {
   "cell_type": "code",
   "execution_count": 46,
   "id": "a7a7d9a1-1176-4443-81b6-b8ecf0c04c27",
   "metadata": {},
   "outputs": [],
   "source": [
    "from keras.models import Sequential\n",
    "import numpy as np"
   ]
  },
  {
   "cell_type": "code",
   "execution_count": 47,
   "id": "5793df23-8d5f-4f5e-9e74-3290da096f18",
   "metadata": {},
   "outputs": [],
   "source": [
    "from keras.layers import Embedding, Dense, InputLayer, Activation\n",
    "from keras import regularizers, initializers"
   ]
  },
  {
   "cell_type": "code",
   "execution_count": 62,
   "id": "6567120b-59c7-4852-81f4-cdf666d112b4",
   "metadata": {},
   "outputs": [
    {
     "name": "stdout",
     "output_type": "stream",
     "text": [
      "Model: \"sequential_9\"\n",
      "_________________________________________________________________\n",
      " Layer (type)                Output Shape              Param #   \n",
      "=================================================================\n",
      " embedding_9 (Embedding)     (None, 4, 4)              80        \n",
      "                                                                 \n",
      " flatten_2 (Flatten)         (None, 16)                0         \n",
      "                                                                 \n",
      " dense_20 (Dense)            (None, 3)                 51        \n",
      "                                                                 \n",
      "=================================================================\n",
      "Total params: 131\n",
      "Trainable params: 131\n",
      "Non-trainable params: 0\n",
      "_________________________________________________________________\n"
     ]
    }
   ],
   "source": [
    "model = Sequential()\n",
    "input_layer = InputLayer(input_shape=(4,))\n",
    "model.add(input_layer)\n",
    "embedding = Embedding(input_dim=20, output_dim=4, input_length=4)\n",
    "model.add(embedding)\n",
    "Layer_Flatten = Flatten()\n",
    "model.add(Flatten())\n",
    "dense_1 = Dense(3)\n",
    "model.add(dense_1)\n",
    "model.compile('adam','mse')\n",
    "model.summary()"
   ]
  },
  {
   "cell_type": "code",
   "execution_count": 63,
   "id": "bdc1e81e-70f4-434a-a97b-29cb619ea051",
   "metadata": {
    "scrolled": true
   },
   "outputs": [],
   "source": [
    "input_shape = np.random.randint(0, 10, size=(10, 4))\n",
    "output_data = np.random.randint(0, 3, size=10)"
   ]
  },
  {
   "cell_type": "code",
   "execution_count": 64,
   "id": "50553702-1dd0-4ad5-b6bb-7e07bb4cdc81",
   "metadata": {},
   "outputs": [],
   "source": [
    "output_data = np.array(range(0, 10))"
   ]
  },
  {
   "cell_type": "code",
   "execution_count": 65,
   "id": "83ca4765-9600-4a9b-b0ec-d993bfc520e2",
   "metadata": {
    "scrolled": true
   },
   "outputs": [
    {
     "data": {
      "text/plain": [
       "array([0, 1, 2, 3, 4, 5, 6, 7, 8, 9])"
      ]
     },
     "execution_count": 65,
     "metadata": {},
     "output_type": "execute_result"
    }
   ],
   "source": [
    "output_data"
   ]
  },
  {
   "cell_type": "code",
   "execution_count": 66,
   "id": "418626d9-49fd-441f-884d-a1c186f4cfa3",
   "metadata": {
    "scrolled": true
   },
   "outputs": [
    {
     "data": {
      "text/plain": [
       "[array([[-0.03454549, -0.01290858, -0.00954716,  0.01897222],\n",
       "        [-0.03968246,  0.03828355,  0.03156153,  0.02682059],\n",
       "        [ 0.02062001,  0.01006669,  0.03336579,  0.02114737],\n",
       "        [ 0.0105265 ,  0.01592224, -0.04887984,  0.02115578],\n",
       "        [-0.01694153, -0.04238986,  0.03862972, -0.02559637],\n",
       "        [ 0.00366596, -0.0159372 , -0.00195773,  0.04921761],\n",
       "        [ 0.01827485,  0.017806  , -0.01702489, -0.01603176],\n",
       "        [-0.01135065, -0.02891012,  0.01684674,  0.03658393],\n",
       "        [-0.00903652,  0.00353129, -0.04695381, -0.04904417],\n",
       "        [-0.04085312, -0.03072615,  0.02870755, -0.00803666],\n",
       "        [ 0.02203545,  0.02780194, -0.04159572, -0.03217671],\n",
       "        [ 0.01418967,  0.0163976 , -0.00371436, -0.02085187],\n",
       "        [-0.02956885, -0.01310288, -0.00667699,  0.00545966],\n",
       "        [-0.0286392 , -0.03465223,  0.03973379, -0.01198213],\n",
       "        [ 0.02631942,  0.01065701, -0.03299852, -0.02376541],\n",
       "        [ 0.02458802,  0.03792808, -0.03301126,  0.03701732],\n",
       "        [ 0.00977958, -0.03845567,  0.00986998,  0.00160347],\n",
       "        [ 0.03315021, -0.03359698,  0.00083787, -0.03690584],\n",
       "        [-0.04048389, -0.01011829, -0.03313311, -0.02857482],\n",
       "        [ 0.02682035,  0.00485402,  0.01246598, -0.04513834]],\n",
       "       dtype=float32)]"
      ]
     },
     "execution_count": 66,
     "metadata": {},
     "output_type": "execute_result"
    }
   ],
   "source": [
    "embedding.get_weights()"
   ]
  },
  {
   "cell_type": "code",
   "execution_count": 67,
   "id": "d5361416-7c51-4bbb-b924-b5edf63b0a2f",
   "metadata": {
    "scrolled": true
   },
   "outputs": [
    {
     "name": "stdout",
     "output_type": "stream",
     "text": [
      "1/1 [==============================] - 0s 371ms/step - loss: 28.5043\n"
     ]
    },
    {
     "data": {
      "text/plain": [
       "<keras.callbacks.History at 0x1b8461215b0>"
      ]
     },
     "execution_count": 67,
     "metadata": {},
     "output_type": "execute_result"
    }
   ],
   "source": [
    "model.fit(input_shape,output_data)"
   ]
  },
  {
   "cell_type": "code",
   "execution_count": 71,
   "id": "3d1ec20e-d097-4719-a3c5-ffdebf38d061",
   "metadata": {
    "scrolled": true
   },
   "outputs": [
    {
     "name": "stdout",
     "output_type": "stream",
     "text": [
      "1/1 [==============================] - 0s 25ms/step\n"
     ]
    }
   ],
   "source": [
    "# Generate random input for inference\n",
    "input_data = np.random.randint(0, 20, size=(1, 4))\n",
    "\n",
    "# Perform inference\n",
    "output = model.predict(input_data)"
   ]
  },
  {
   "cell_type": "code",
   "execution_count": 72,
   "id": "b281881a-69f5-49a9-9df2-5c968100ef25",
   "metadata": {},
   "outputs": [
    {
     "data": {
      "text/plain": [
       "array([[ 0.00799968,  0.03759169, -0.03927512]], dtype=float32)"
      ]
     },
     "execution_count": 72,
     "metadata": {},
     "output_type": "execute_result"
    }
   ],
   "source": [
    "output"
   ]
  },
  {
   "cell_type": "code",
   "execution_count": null,
   "id": "ef4e7000-9b38-4ffb-a30e-011c1cb6c3b4",
   "metadata": {},
   "outputs": [],
   "source": []
  }
 ],
 "metadata": {
  "kernelspec": {
   "display_name": "Python 3 (ipykernel)",
   "language": "python",
   "name": "python3"
  },
  "language_info": {
   "codemirror_mode": {
    "name": "ipython",
    "version": 3
   },
   "file_extension": ".py",
   "mimetype": "text/x-python",
   "name": "python",
   "nbconvert_exporter": "python",
   "pygments_lexer": "ipython3",
   "version": "3.9.17"
  }
 },
 "nbformat": 4,
 "nbformat_minor": 5
}
