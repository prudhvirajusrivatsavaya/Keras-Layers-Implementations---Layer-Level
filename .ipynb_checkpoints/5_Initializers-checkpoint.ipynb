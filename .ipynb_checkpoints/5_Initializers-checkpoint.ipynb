{
 "cells": [
  {
   "cell_type": "code",
   "execution_count": 1,
   "id": "bf5f14ac-2932-4ae5-a65c-78d0d826694c",
   "metadata": {},
   "outputs": [],
   "source": [
    "from tensorflow.keras.layers import Dense, Activation, InputLayer, Masking, Embedding, Flatten, Masking\n",
    "from tensorflow.keras.models import Sequential\n",
    "from tensorflow.keras import regularizers\n",
    "from tensorflow.keras import initializers\n",
    "import numpy as np"
   ]
  },
  {
   "cell_type": "code",
   "execution_count": 3,
   "id": "e50e3e70-1db0-42b4-83fd-10ada0d52141",
   "metadata": {
    "scrolled": true
   },
   "outputs": [
    {
     "name": "stdout",
     "output_type": "stream",
     "text": [
      "32/32 [==============================] - 1s 3ms/step - loss: 1.0995\n"
     ]
    },
    {
     "data": {
      "text/plain": [
       "<keras.callbacks.History at 0x1c143650fa0>"
      ]
     },
     "execution_count": 3,
     "metadata": {},
     "output_type": "execute_result"
    }
   ],
   "source": [
    "model = Sequential()\n",
    "input_layer = InputLayer(input_shape=(10,))\n",
    "\n",
    "Layer_1 = Embedding(input_dim=20, output_dim =50, input_length=10)\n",
    "Activation_1 = Activation(activation='relu')\n",
    "model.add(Layer_1)\n",
    "model.add(Activation_1)\n",
    "\n",
    "Layer_2 = Dense(units=40, kernel_initializer=initializers.he_normal(), bias_initializer=initializers.zeros())\n",
    "Activation_2 = Activation(activation='relu')\n",
    "model.add(Layer_2)\n",
    "model.add(Activation_2)\n",
    "\n",
    "layer_5 = Masking(mask_value=0.0)\n",
    "model.add(layer_5)\n",
    "\n",
    "Layer_3 = Dense(units=30, kernel_initializer=initializers.he_normal(), bias_initializer=initializers.zeros())\n",
    "Activation_3 = Activation(activation='relu')\n",
    "model.add(Layer_3)\n",
    "model.add(Activation_3)\n",
    "\n",
    "Layer_4 = Flatten()\n",
    "model.add(Layer_4)\n",
    "\n",
    "Layer_out = Dense(units=3, activation='softmax')\n",
    "model.add(Layer_out)\n",
    "\n",
    "model.compile(loss='sparse_categorical_crossentropy', optimizer='adam')\n",
    "\n",
    "# Generate indices within the range [0, 20)\n",
    "input_shape = np.random.randint(0, 20, size=(1000, 10))\n",
    "output_data = np.random.randint(0, 3, size=(1000,))\n",
    "\n",
    "# Make sure the output_data is integer type\n",
    "output_data = output_data.astype(int)\n",
    "\n",
    "model.fit(input_shape, output_data)\n"
   ]
  },
  {
   "cell_type": "code",
   "execution_count": 4,
   "id": "bff0b4d2-7a20-4477-86a3-9ec00107637a",
   "metadata": {},
   "outputs": [
    {
     "name": "stdout",
     "output_type": "stream",
     "text": [
      "Model: \"sequential_1\"\n",
      "_________________________________________________________________\n",
      " Layer (type)                Output Shape              Param #   \n",
      "=================================================================\n",
      " embedding_1 (Embedding)     (None, 10, 50)            1000      \n",
      "                                                                 \n",
      " activation_2 (Activation)   (None, 10, 50)            0         \n",
      "                                                                 \n",
      " dense_1 (Dense)             (None, 10, 40)            2040      \n",
      "                                                                 \n",
      " activation_3 (Activation)   (None, 10, 40)            0         \n",
      "                                                                 \n",
      " masking_1 (Masking)         (None, 10, 40)            0         \n",
      "                                                                 \n",
      " dense_2 (Dense)             (None, 10, 30)            1230      \n",
      "                                                                 \n",
      " activation_4 (Activation)   (None, 10, 30)            0         \n",
      "                                                                 \n",
      " flatten (Flatten)           (None, 300)               0         \n",
      "                                                                 \n",
      " dense_3 (Dense)             (None, 3)                 903       \n",
      "                                                                 \n",
      "=================================================================\n",
      "Total params: 5,173\n",
      "Trainable params: 5,173\n",
      "Non-trainable params: 0\n",
      "_________________________________________________________________\n"
     ]
    }
   ],
   "source": [
    "model.summary()"
   ]
  },
  {
   "cell_type": "code",
   "execution_count": 5,
   "id": "36b0c253-0cd3-4423-a381-eb24d8f88680",
   "metadata": {},
   "outputs": [
    {
     "data": {
      "text/plain": [
       "(40, 30)"
      ]
     },
     "execution_count": 5,
     "metadata": {},
     "output_type": "execute_result"
    }
   ],
   "source": [
    "Layer_3.get_weights()[0].shape"
   ]
  },
  {
   "cell_type": "code",
   "execution_count": null,
   "id": "d93cbb55-1fb1-4b22-89b1-d6d565d6d98e",
   "metadata": {},
   "outputs": [],
   "source": []
  }
 ],
 "metadata": {
  "kernelspec": {
   "display_name": "Python 3 (ipykernel)",
   "language": "python",
   "name": "python3"
  },
  "language_info": {
   "codemirror_mode": {
    "name": "ipython",
    "version": 3
   },
   "file_extension": ".py",
   "mimetype": "text/x-python",
   "name": "python",
   "nbconvert_exporter": "python",
   "pygments_lexer": "ipython3",
   "version": "3.9.17"
  }
 },
 "nbformat": 4,
 "nbformat_minor": 5
}
