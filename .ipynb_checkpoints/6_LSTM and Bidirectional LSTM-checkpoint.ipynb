{
 "cells": [
  {
   "cell_type": "code",
   "execution_count": 2,
   "id": "1a206bae-5163-4e36-8a0d-2d8faa05222a",
   "metadata": {},
   "outputs": [],
   "source": [
    "from keras.layers import InputLayer, Dense, Activation, Masking, Embedding, LSTM, Flatten, Bidirectional\n",
    "from keras.models import Sequential\n",
    "import numpy as np"
   ]
  },
  {
   "cell_type": "code",
   "execution_count": 14,
   "id": "334c0b26-5b9b-43d3-ae3d-ed10a24fedf3",
   "metadata": {
    "scrolled": true
   },
   "outputs": [],
   "source": [
    "model = Sequential()\n",
    "input_layer = InputLayer(input_shape=(20,))\n",
    "layer_1 = Embedding(input_dim=100, output_dim=512, input_length=20)\n",
    "layer_2 = LSTM(units=20, input_shape=(20,512), return_sequences=True)\n",
    "layer_6 = Bidirectional(LSTM(units=20, input_shape=(20,512)))\n",
    "layer_3 = Dense(units = 256)\n",
    "layer_4 = Dense(units = 128)\n",
    "flatten = Flatten()\n",
    "layer_5 = Dense(3, activation='softmax')\n",
    "\n",
    "model.add(input_layer)\n",
    "model.add(layer_1)\n",
    "model.add(layer_2)\n",
    "model.add(layer_6)\n",
    "model.add(layer_3)\n",
    "model.add(layer_4)\n",
    "model.add(Flatten())\n",
    "model.add(layer_5)\n",
    "\n",
    "model.compile(optimizer='adam',loss='sparse_categorical_crossentropy')"
   ]
  },
  {
   "cell_type": "code",
   "execution_count": 15,
   "id": "14ed00ff-a2ae-4498-bab2-de618db335c4",
   "metadata": {},
   "outputs": [
    {
     "name": "stdout",
     "output_type": "stream",
     "text": [
      "Model: \"sequential_4\"\n",
      "_________________________________________________________________\n",
      " Layer (type)                Output Shape              Param #   \n",
      "=================================================================\n",
      " embedding_4 (Embedding)     (None, 20, 512)           51200     \n",
      "                                                                 \n",
      " lstm_12 (LSTM)              (None, 20, 20)            42640     \n",
      "                                                                 \n",
      " bidirectional_6 (Bidirectio  (None, 44)               7568      \n",
      " nal)                                                            \n",
      "                                                                 \n",
      " dense_12 (Dense)            (None, 256)               11520     \n",
      "                                                                 \n",
      " dense_13 (Dense)            (None, 128)               32896     \n",
      "                                                                 \n",
      " flatten_7 (Flatten)         (None, 128)               0         \n",
      "                                                                 \n",
      " dense_14 (Dense)            (None, 3)                 387       \n",
      "                                                                 \n",
      "=================================================================\n",
      "Total params: 146,211\n",
      "Trainable params: 146,211\n",
      "Non-trainable params: 0\n",
      "_________________________________________________________________\n"
     ]
    }
   ],
   "source": [
    "model.summary()"
   ]
  },
  {
   "cell_type": "code",
   "execution_count": 16,
   "id": "d686e54c-4318-4ad7-a862-54b3cd3ba95b",
   "metadata": {},
   "outputs": [],
   "source": [
    "input_shape = np.random.randint(0, 20, size=(1000, 20))\n",
    "output_data = np.random.randint(0, 3, size=(1000,))"
   ]
  },
  {
   "cell_type": "code",
   "execution_count": 17,
   "id": "be6fe8f3-abf6-41ac-b443-f142d52b6acb",
   "metadata": {
    "scrolled": true
   },
   "outputs": [
    {
     "name": "stdout",
     "output_type": "stream",
     "text": [
      "32/32 [==============================] - 6s 20ms/step - loss: 1.1029\n"
     ]
    },
    {
     "data": {
      "text/plain": [
       "<keras.callbacks.History at 0x1b66588dd00>"
      ]
     },
     "execution_count": 17,
     "metadata": {},
     "output_type": "execute_result"
    }
   ],
   "source": [
    "model.fit(input_shape, output_data)"
   ]
  },
  {
   "cell_type": "code",
   "execution_count": 6,
   "id": "8bd94c09-cf11-4fed-bbe6-d4de59da508f",
   "metadata": {},
   "outputs": [],
   "source": [
    "### Pytorch"
   ]
  },
  {
   "cell_type": "code",
   "execution_count": 2,
   "id": "3ca23118-6ca4-4d8e-8865-af5a4ec5d6a3",
   "metadata": {
    "scrolled": true
   },
   "outputs": [
    {
     "name": "stderr",
     "output_type": "stream",
     "text": [
      "C:\\Users\\User\\AppData\\Local\\Temp\\ipykernel_3828\\161913135.py:74: UserWarning: nn.init.xavier_normal is now deprecated in favor of nn.init.xavier_normal_.\n",
      "  nn.init.xavier_normal(layer.weight)\n"
     ]
    },
    {
     "name": "stdout",
     "output_type": "stream",
     "text": [
      "Epoch [1/10], Loss: 1.0620\n",
      "Epoch [2/10], Loss: 1.1076\n",
      "Epoch [3/10], Loss: 1.1436\n",
      "Epoch [4/10], Loss: 1.1068\n",
      "Epoch [5/10], Loss: 1.0749\n",
      "Epoch [6/10], Loss: 1.0765\n",
      "Epoch [7/10], Loss: 1.1391\n",
      "Epoch [8/10], Loss: 1.0321\n",
      "Epoch [9/10], Loss: 1.0406\n",
      "Epoch [10/10], Loss: 1.1572\n",
      "Predicted class: 0\n"
     ]
    }
   ],
   "source": [
    "import numpy as np\n",
    "import torch\n",
    "import torch.nn as nn\n",
    "import torch.optim as optim\n",
    "from torch.utils.data import DataLoader, TensorDataset\n",
    "\n",
    "# Generate sample dataset\n",
    "input_data = np.random.randint(0, 20, size=(1000, 20))\n",
    "output_data = np.random.randint(0, 3, size=(1000,))\n",
    "\n",
    "# Convert data to PyTorch tensors\n",
    "x = torch.tensor(input_data, dtype=torch.float32)\n",
    "y = torch.tensor(output_data, dtype=torch.long)\n",
    "\n",
    "# Create DataLoader for batching\n",
    "dataset = TensorDataset(x, y)\n",
    "batch_size = 16\n",
    "dataloader = DataLoader(dataset, batch_size=batch_size, shuffle=True)\n",
    "\n",
    "# Hyperparameters\n",
    "input_size = 20\n",
    "embedding_dim = 32\n",
    "hidden_size = 50\n",
    "output_size = 3  # 3 classes\n",
    "learning_rate = 0.001\n",
    "epochs = 10\n",
    "weight_decay = 1e-5  # L2 regularization strength\n",
    "\n",
    "# Define LSTM model with regularization for specific layers\n",
    "class LSTMModel(nn.Module):\n",
    "    def __init__(self, input_size, embedding_dim, hidden_size, output_size):\n",
    "        super(LSTMModel, self).__init__()\n",
    "        self.embedding = nn.Embedding(input_size, embedding_dim)\n",
    "        self.lstm_1 = nn.LSTM(embedding_dim, hidden_size, batch_first=True)\n",
    "        self.lstm_2 = nn.LSTM(embedding_dim, hidden_size, batch_first=True)\n",
    "        self.fc1 = nn.Linear(hidden_size, 64)\n",
    "        self.relu = nn.ReLU()\n",
    "        self.fc2 = nn.Linear(64, output_size)\n",
    "\n",
    "        # Apply L2 regularization to specific layers\n",
    "        self.init_weights(self.fc1)\n",
    "        self.init_weights(self.fc2)\n",
    "\n",
    "        # Apply separate initialization for each layer\n",
    "        self.init_weights(self.embedding)\n",
    "        self.init_weights(self.lstm_1)\n",
    "        self.init_weights(self.fc1)\n",
    "        self.init_weights(self.fc2)\n",
    "\n",
    "    def forward(self, x):\n",
    "        out = self.embedding(x)\n",
    "        out, _ = self.lstm_1(out)\n",
    "        out, _ = self.lstm_2(out)\n",
    "        out = self.fc1(out[:, -1, :])\n",
    "        out = self.relu(out)\n",
    "        out = self.fc2(out)\n",
    "        return out\n",
    "\n",
    "    def init_weights(self, layer):\n",
    "        if isinstance(layer, nn.Linear):\n",
    "            nn.init.xavier_normal_(layer.weight)\n",
    "            layer.bias.data.fill_(0.01)\n",
    "    # To apply for all layers\n",
    "    def init_weights(self):\n",
    "        for layer in self.children():\n",
    "            if isinstance(layer, nn.Linear):\n",
    "                nn.init.xavier_normal_(layer.weight)\n",
    "                layer.bias.data.fill_(0.01)\n",
    "    def init_weights(self, layer):\n",
    "        if isinstance(layer, nn.Linear):\n",
    "            nn.init.xavier_normal_(layer.weight)\n",
    "            layer.bias.data.fill_(0.01)\n",
    "        elif isinstance(layer, nn.Embedding):\n",
    "            nn.init.xavier_normal(layer.weight)\n",
    "        elif isinstance(layer, nn.LSTM):\n",
    "            for name, param in layer.named_parameters():\n",
    "                if 'weight' in name:\n",
    "                    nn.init.xavier_normal_(param)\n",
    "                elif 'bias' in name:\n",
    "                    param.data.fill_(0.01)\n",
    "\n",
    "# Create an instance of the model\n",
    "model = LSTMModel(input_size, embedding_dim, hidden_size, output_size)\n",
    "\n",
    "# Define loss function and optimizer with weight decay for regularization\n",
    "criterion = nn.CrossEntropyLoss()\n",
    "optimizer = optim.Adam(model.parameters(), lr=learning_rate, weight_decay=weight_decay)\n",
    "\n",
    "# Training loop\n",
    "for epoch in range(epochs):\n",
    "    model.train()\n",
    "    for inputs, labels in dataloader:\n",
    "        # Forward pass\n",
    "        outputs = model(inputs.long())\n",
    "\n",
    "        # Calculate the loss\n",
    "        loss = criterion(outputs, labels)\n",
    "\n",
    "        # Backward pass and optimization\n",
    "        optimizer.zero_grad()\n",
    "        loss.backward()\n",
    "        optimizer.step()\n",
    "\n",
    "    print(f'Epoch [{epoch+1}/{epochs}], Loss: {loss.item():.4f}')\n",
    "\n",
    "# Testing the model\n",
    "model.eval()\n",
    "with torch.no_grad():\n",
    "    test_sequence = torch.randint(0, 20, (1, 20))  # Replace with your test sequence\n",
    "    output = model(test_sequence.long())\n",
    "    predicted_class = torch.argmax(output).item()\n",
    "    print(f\"Predicted class: {predicted_class}\")\n"
   ]
  },
  {
   "cell_type": "code",
   "execution_count": null,
   "id": "47ab7930-ed46-417a-8863-d9ad9306a4c7",
   "metadata": {},
   "outputs": [],
   "source": [
    "model.out"
   ]
  },
  {
   "cell_type": "code",
   "execution_count": null,
   "id": "09cbbe81-6054-4d3c-9ed1-9d22b449e976",
   "metadata": {},
   "outputs": [],
   "source": [
    "model.out[:, -1, :]"
   ]
  },
  {
   "cell_type": "code",
   "execution_count": null,
   "id": "66f5f1df-e31f-45f4-a4c7-7edb6c5fe84e",
   "metadata": {},
   "outputs": [],
   "source": [
    "model.lstm"
   ]
  }
 ],
 "metadata": {
  "kernelspec": {
   "display_name": "Python 3 (ipykernel)",
   "language": "python",
   "name": "python3"
  },
  "language_info": {
   "codemirror_mode": {
    "name": "ipython",
    "version": 3
   },
   "file_extension": ".py",
   "mimetype": "text/x-python",
   "name": "python",
   "nbconvert_exporter": "python",
   "pygments_lexer": "ipython3",
   "version": "3.9.17"
  }
 },
 "nbformat": 4,
 "nbformat_minor": 5
}
