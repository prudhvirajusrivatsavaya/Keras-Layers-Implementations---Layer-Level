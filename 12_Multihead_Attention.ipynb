{
 "cells": [
  {
   "cell_type": "code",
   "execution_count": 1,
   "id": "619bba44-58e9-41c1-a7d1-5f2565403525",
   "metadata": {
    "scrolled": true
   },
   "outputs": [
    {
     "name": "stdout",
     "output_type": "stream",
     "text": [
      "Model: \"model\"\n",
      "__________________________________________________________________________________________________\n",
      " Layer (type)                   Output Shape         Param #     Connected to                     \n",
      "==================================================================================================\n",
      " input_1 (InputLayer)           [(None, 64)]         0           []                               \n",
      "                                                                                                  \n",
      " embedding (Embedding)          (None, 64, 50)       1000        ['input_1[0][0]']                \n",
      "                                                                                                  \n",
      " bidirectional (Bidirectional)  (None, 64, 128)      58880       ['embedding[0][0]']              \n",
      "                                                                                                  \n",
      " multi_head_attention (MultiHea  (None, 64, 128)     33088       ['bidirectional[0][0]',          \n",
      " dAttention)                                                      'bidirectional[0][0]']          \n",
      "                                                                                                  \n",
      " concatenate (Concatenate)      (None, 64, 256)      0           ['bidirectional[0][0]',          \n",
      "                                                                  'multi_head_attention[0][0]']   \n",
      "                                                                                                  \n",
      " lstm_1 (LSTM)                  (None, 32)           36992       ['concatenate[0][0]']            \n",
      "                                                                                                  \n",
      " dense (Dense)                  (None, 3)            99          ['lstm_1[0][0]']                 \n",
      "                                                                                                  \n",
      "==================================================================================================\n",
      "Total params: 130,059\n",
      "Trainable params: 130,059\n",
      "Non-trainable params: 0\n",
      "__________________________________________________________________________________________________\n",
      "Epoch 1/10\n",
      "25/25 [==============================] - 8s 137ms/step - loss: 1.0994 - accuracy: 0.3475 - val_loss: 1.1004 - val_accuracy: 0.3500\n",
      "Epoch 2/10\n",
      "25/25 [==============================] - 2s 82ms/step - loss: 1.0983 - accuracy: 0.3562 - val_loss: 1.1012 - val_accuracy: 0.3100\n",
      "Epoch 3/10\n",
      "25/25 [==============================] - 2s 81ms/step - loss: 1.0953 - accuracy: 0.3500 - val_loss: 1.1016 - val_accuracy: 0.2900\n",
      "Epoch 4/10\n",
      "25/25 [==============================] - 2s 82ms/step - loss: 1.0886 - accuracy: 0.4000 - val_loss: 1.1185 - val_accuracy: 0.3100\n",
      "Epoch 5/10\n",
      "25/25 [==============================] - 2s 83ms/step - loss: 1.0829 - accuracy: 0.4025 - val_loss: 1.1315 - val_accuracy: 0.3100\n",
      "Epoch 6/10\n",
      "25/25 [==============================] - 2s 88ms/step - loss: 1.0680 - accuracy: 0.4225 - val_loss: 1.1478 - val_accuracy: 0.2900\n",
      "Epoch 7/10\n",
      "25/25 [==============================] - 2s 83ms/step - loss: 1.0560 - accuracy: 0.4325 - val_loss: 1.1605 - val_accuracy: 0.3250\n",
      "Epoch 8/10\n",
      "25/25 [==============================] - 2s 83ms/step - loss: 1.0549 - accuracy: 0.4187 - val_loss: 1.1659 - val_accuracy: 0.3200\n",
      "Epoch 9/10\n",
      "25/25 [==============================] - 2s 77ms/step - loss: 1.0434 - accuracy: 0.4500 - val_loss: 1.1702 - val_accuracy: 0.3450\n",
      "Epoch 10/10\n",
      "25/25 [==============================] - 2s 77ms/step - loss: 1.0362 - accuracy: 0.4462 - val_loss: 1.1560 - val_accuracy: 0.3600\n"
     ]
    },
    {
     "data": {
      "text/plain": [
       "<keras.callbacks.History at 0x1cff352aa90>"
      ]
     },
     "execution_count": 1,
     "metadata": {},
     "output_type": "execute_result"
    }
   ],
   "source": [
    "import numpy as np\n",
    "import tensorflow as tf\n",
    "from tensorflow.keras.layers import Input, Embedding, LSTM, Bidirectional, Dense, MultiHeadAttention\n",
    "\n",
    "# Generate random data\n",
    "input_shape = np.random.randint(0, 20, size=(1000, 64))\n",
    "output_data = np.random.randint(0, 3, size=(1000,))\n",
    "\n",
    "# Define the model\n",
    "input_layer = Input(shape=(64,))\n",
    "\n",
    "# Embedding layer\n",
    "embedding_layer = Embedding(input_dim=20, output_dim=50)(input_layer)\n",
    "\n",
    "# Bidirectional LSTM layer\n",
    "bidirectional_lstm = Bidirectional(LSTM(64, return_sequences=True))(embedding_layer)\n",
    "\n",
    "# Multi-Head Attention layer\n",
    "num_heads = 8  # You can adjust the number of heads\n",
    "multihead_attention = MultiHeadAttention(num_heads=num_heads, key_dim=64 // num_heads)(bidirectional_lstm, bidirectional_lstm)\n",
    "\n",
    "# Concatenate the multi-head attention output with the bidirectional LSTM output\n",
    "concatenated_output = tf.keras.layers.Concatenate(axis=-1)([bidirectional_lstm, multihead_attention])\n",
    "\n",
    "# LSTM layer\n",
    "lstm_layer = LSTM(32)(concatenated_output)\n",
    "\n",
    "# Dense layer\n",
    "output_layer = Dense(3, activation='softmax')(lstm_layer)\n",
    "\n",
    "# Create the model\n",
    "model = tf.keras.Model(inputs=input_layer, outputs=output_layer)\n",
    "\n",
    "# Compile the model\n",
    "model.compile(optimizer='adam', loss='sparse_categorical_crossentropy', metrics=['accuracy'])\n",
    "\n",
    "# Display the model summary\n",
    "model.summary()\n",
    "\n",
    "# Train the model (replace 'output_data' with your actual target data)\n",
    "model.fit(input_shape, output_data, epochs=10, batch_size=32, validation_split=0.2)\n"
   ]
  },
  {
   "cell_type": "code",
   "execution_count": null,
   "id": "f4ef3943-c71e-45b1-bdb9-ccd56266b727",
   "metadata": {},
   "outputs": [],
   "source": []
  }
 ],
 "metadata": {
  "kernelspec": {
   "display_name": "Python 3 (ipykernel)",
   "language": "python",
   "name": "python3"
  },
  "language_info": {
   "codemirror_mode": {
    "name": "ipython",
    "version": 3
   },
   "file_extension": ".py",
   "mimetype": "text/x-python",
   "name": "python",
   "nbconvert_exporter": "python",
   "pygments_lexer": "ipython3",
   "version": "3.9.17"
  }
 },
 "nbformat": 4,
 "nbformat_minor": 5
}
