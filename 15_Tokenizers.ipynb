{
 "cells": [
  {
   "cell_type": "code",
   "execution_count": 2,
   "id": "376ab407-85e1-4135-9484-dd0df338a86d",
   "metadata": {},
   "outputs": [],
   "source": [
    "class TokenizerBase:\n",
    "    def __init__(self):\n",
    "        self.vocab = {}\n",
    "        self.special_tokens = []\n",
    "\n",
    "    def tokenize(self, text):\n",
    "        raise NotImplementedError\n",
    "\n",
    "    def detokenize(self, tokens):\n",
    "        raise NotImplementedError\n",
    "\n",
    "    def add_special_tokens(self, tokens):\n",
    "        self.special_tokens.extend(tokens)\n",
    "        for token in tokens:\n",
    "            if token not in self.vocab:\n",
    "                self.vocab[token] = len(self.vocab) + 1\n",
    "\n",
    "    def add_tokens(self, tokens):\n",
    "        for token in tokens:\n",
    "            if token not in self.vocab:\n",
    "                self.vocab[token] = len(self.vocab) + 1\n",
    "\n",
    "    def vocab_size(self):\n",
    "        return len(self.vocab)"
   ]
  },
  {
   "cell_type": "code",
   "execution_count": 3,
   "id": "bb88d368-df96-494e-9afe-0ef7219225fa",
   "metadata": {},
   "outputs": [],
   "source": [
    "class SimpleTokenizer(TokenizerBase):\n",
    "    def __init__(self):\n",
    "        super().__init__()\n",
    "        self.vocab = {\"The\": 1, \"quick\": 2, \"brown\": 3, \"fox\": 4, \"jumps\": 5,\n",
    "                      \"over\": 6, \"lazy\": 7, \"dog\": 8}\n",
    "\n",
    "    def tokenize(self, text):\n",
    "        tokens = text.split()\n",
    "        return [self.vocab[token] for token in tokens]\n",
    "\n",
    "    def detokenize(self, tokens):\n",
    "        text = \" \".join([self.vocab[token] for token in tokens])\n",
    "        return text\n",
    "\n",
    "    def vocab_size(self):\n",
    "        return len(self.vocab)"
   ]
  },
  {
   "cell_type": "code",
   "execution_count": 5,
   "id": "383c7c73-0787-4989-b14b-476f4f7774ec",
   "metadata": {},
   "outputs": [],
   "source": [
    "tokenizer = SimpleTokenizer()\n",
    "tokenizer.add_tokens([\"the\"])"
   ]
  },
  {
   "cell_type": "code",
   "execution_count": 7,
   "id": "20a74a82-4b5c-4202-8751-ea56c3049b95",
   "metadata": {},
   "outputs": [
    {
     "ename": "KeyError",
     "evalue": "'the'",
     "output_type": "error",
     "traceback": [
      "\u001b[1;31m---------------------------------------------------------------------------\u001b[0m",
      "\u001b[1;31mKeyError\u001b[0m                                  Traceback (most recent call last)",
      "Cell \u001b[1;32mIn[7], line 3\u001b[0m\n\u001b[0;32m      1\u001b[0m text \u001b[38;5;241m=\u001b[39m \u001b[38;5;124m\"\u001b[39m\u001b[38;5;124mThe quick brown fox jumps over the lazy dog.\u001b[39m\u001b[38;5;124m\"\u001b[39m\n\u001b[1;32m----> 3\u001b[0m tokens \u001b[38;5;241m=\u001b[39m \u001b[43mtokenizer\u001b[49m\u001b[38;5;241;43m.\u001b[39;49m\u001b[43mtokenize\u001b[49m\u001b[43m(\u001b[49m\u001b[43mtext\u001b[49m\u001b[43m)\u001b[49m\n\u001b[0;32m      4\u001b[0m \u001b[38;5;28mprint\u001b[39m(tokens)\n\u001b[0;32m      6\u001b[0m detokenized_text \u001b[38;5;241m=\u001b[39m tokenizer\u001b[38;5;241m.\u001b[39mdetokenize(tokens)\n",
      "Cell \u001b[1;32mIn[3], line 9\u001b[0m, in \u001b[0;36mSimpleTokenizer.tokenize\u001b[1;34m(self, text)\u001b[0m\n\u001b[0;32m      7\u001b[0m \u001b[38;5;28;01mdef\u001b[39;00m \u001b[38;5;21mtokenize\u001b[39m(\u001b[38;5;28mself\u001b[39m, text):\n\u001b[0;32m      8\u001b[0m     tokens \u001b[38;5;241m=\u001b[39m text\u001b[38;5;241m.\u001b[39msplit()\n\u001b[1;32m----> 9\u001b[0m     \u001b[38;5;28;01mreturn\u001b[39;00m [\u001b[38;5;28mself\u001b[39m\u001b[38;5;241m.\u001b[39mvocab[token] \u001b[38;5;28;01mfor\u001b[39;00m token \u001b[38;5;129;01min\u001b[39;00m tokens]\n",
      "Cell \u001b[1;32mIn[3], line 9\u001b[0m, in \u001b[0;36m<listcomp>\u001b[1;34m(.0)\u001b[0m\n\u001b[0;32m      7\u001b[0m \u001b[38;5;28;01mdef\u001b[39;00m \u001b[38;5;21mtokenize\u001b[39m(\u001b[38;5;28mself\u001b[39m, text):\n\u001b[0;32m      8\u001b[0m     tokens \u001b[38;5;241m=\u001b[39m text\u001b[38;5;241m.\u001b[39msplit()\n\u001b[1;32m----> 9\u001b[0m     \u001b[38;5;28;01mreturn\u001b[39;00m [\u001b[38;5;28;43mself\u001b[39;49m\u001b[38;5;241;43m.\u001b[39;49m\u001b[43mvocab\u001b[49m\u001b[43m[\u001b[49m\u001b[43mtoken\u001b[49m\u001b[43m]\u001b[49m \u001b[38;5;28;01mfor\u001b[39;00m token \u001b[38;5;129;01min\u001b[39;00m tokens]\n",
      "\u001b[1;31mKeyError\u001b[0m: 'the'"
     ]
    }
   ],
   "source": [
    "text = \"The quick brown fox jumps over the lazy dog.\"\n",
    "\n",
    "tokens = tokenizer.tokenize(text)\n",
    "print(tokens)\n",
    "\n",
    "detokenized_text = tokenizer.detokenize(tokens)\n",
    "print(detokenized_text)\n"
   ]
  },
  {
   "cell_type": "code",
   "execution_count": null,
   "id": "944c9686-bdea-4781-9f8e-9bc39dfd69f8",
   "metadata": {},
   "outputs": [],
   "source": []
  }
 ],
 "metadata": {
  "kernelspec": {
   "display_name": "Python 3 (ipykernel)",
   "language": "python",
   "name": "python3"
  },
  "language_info": {
   "codemirror_mode": {
    "name": "ipython",
    "version": 3
   },
   "file_extension": ".py",
   "mimetype": "text/x-python",
   "name": "python",
   "nbconvert_exporter": "python",
   "pygments_lexer": "ipython3",
   "version": "3.9.17"
  }
 },
 "nbformat": 4,
 "nbformat_minor": 5
}
