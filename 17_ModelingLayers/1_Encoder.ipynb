{
 "cells": [
  {
   "cell_type": "code",
   "execution_count": 4,
   "id": "291b1da4-772a-487f-9578-8d3b76eb5a4d",
   "metadata": {},
   "outputs": [],
   "source": [
    "import keras_nlp\n",
    "import numpy as np\n",
    "import keras"
   ]
  },
  {
   "cell_type": "code",
   "execution_count": 5,
   "id": "be6084ee-8938-403e-9852-61634fe3f342",
   "metadata": {},
   "outputs": [],
   "source": [
    "# Create a single transformer encoder layer.\n",
    "encoder = keras_nlp.layers.TransformerEncoder(intermediate_dim=64, num_heads=8)\n",
    "\n",
    "# Create a simple model containing the encoder.\n",
    "input = keras.Input(shape=(10, 64))\n",
    "output = encoder(input)\n",
    "model = keras.Model(inputs=input, outputs=output)\n",
    "\n",
    "# Call encoder on the inputs.\n",
    "input_data = np.random.uniform(size=(2, 10, 64))\n",
    "output = model(input_data)"
   ]
  },
  {
   "cell_type": "code",
   "execution_count": 7,
   "id": "da73c106-331f-4bc7-9f75-c59a7da9e4d3",
   "metadata": {},
   "outputs": [
    {
     "data": {
      "text/plain": [
       "TensorShape([2, 10, 64])"
      ]
     },
     "execution_count": 7,
     "metadata": {},
     "output_type": "execute_result"
    }
   ],
   "source": [
    "output.shape"
   ]
  },
  {
   "cell_type": "code",
   "execution_count": null,
   "id": "16bff9ed-5cdf-4e6c-859c-cde27f21c005",
   "metadata": {},
   "outputs": [],
   "source": [
    "output"
   ]
  }
 ],
 "metadata": {
  "kernelspec": {
   "display_name": "Python 3 (ipykernel)",
   "language": "python",
   "name": "python3"
  },
  "language_info": {
   "codemirror_mode": {
    "name": "ipython",
    "version": 3
   },
   "file_extension": ".py",
   "mimetype": "text/x-python",
   "name": "python",
   "nbconvert_exporter": "python",
   "pygments_lexer": "ipython3",
   "version": "3.9.17"
  }
 },
 "nbformat": 4,
 "nbformat_minor": 5
}
