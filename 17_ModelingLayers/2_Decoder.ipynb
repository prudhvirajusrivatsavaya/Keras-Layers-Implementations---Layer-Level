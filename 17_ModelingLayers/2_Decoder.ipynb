{
 "cells": [
  {
   "cell_type": "code",
   "execution_count": 1,
   "id": "1032fdd8-4be4-4baa-a2c8-20acc6ac2434",
   "metadata": {},
   "outputs": [
    {
     "name": "stdout",
     "output_type": "stream",
     "text": [
      "Using TensorFlow backend\n"
     ]
    }
   ],
   "source": [
    "import keras, keras_nlp, numpy as np"
   ]
  },
  {
   "cell_type": "code",
   "execution_count": null,
   "id": "8504d5d3-5dad-4988-bd86-1722752c3226",
   "metadata": {},
   "outputs": [],
   "source": [
    "# Create a single transformer decoder layer.\n",
    "decoder = keras_nlp.layers.TransformerDecoder(intermediate_dim=64, num_heads=8)\n",
    "\n",
    "# Create a simple model containing the decoder.\n",
    "decoder_input = keras.Input(shape=(10, 64))\n",
    "encoder_input = keras.Input(shape=(10, 64))\n",
    "output = decoder(decoder_input, encoder_input)\n",
    "model = keras.Model(\n",
    "    inputs=(decoder_input, encoder_input),\n",
    "    outputs=output,\n",
    ")\n",
    "\n",
    "# Call decoder on the inputs.\n",
    "decoder_input_data = np.random.uniform(size=(2, 10, 64))\n",
    "encoder_input_data = np.random.uniform(size=(2, 10, 64))\n",
    "decoder_output = model((decoder_input_data, encoder_input_data))"
   ]
  }
 ],
 "metadata": {
  "kernelspec": {
   "display_name": "Python 3 (ipykernel)",
   "language": "python",
   "name": "python3"
  },
  "language_info": {
   "codemirror_mode": {
    "name": "ipython",
    "version": 3
   },
   "file_extension": ".py",
   "mimetype": "text/x-python",
   "name": "python",
   "nbconvert_exporter": "python",
   "pygments_lexer": "ipython3",
   "version": "3.9.17"
  }
 },
 "nbformat": 4,
 "nbformat_minor": 5
}
