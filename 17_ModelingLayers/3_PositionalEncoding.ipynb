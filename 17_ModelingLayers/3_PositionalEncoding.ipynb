{
 "cells": [
  {
   "cell_type": "code",
   "execution_count": 12,
   "id": "93e06634-6231-4af3-97fa-823e652f3fde",
   "metadata": {},
   "outputs": [],
   "source": [
    "import keras_nlp\n",
    "import numpy as np\n",
    "import keras"
   ]
  },
  {
   "cell_type": "code",
   "execution_count": 13,
   "id": "50d588b8-e0d0-4a48-8045-f8c45dbb28a9",
   "metadata": {},
   "outputs": [
    {
     "data": {
      "text/plain": [
       "<keras_nlp.src.layers.modeling.position_embedding.PositionEmbedding at 0x1e169775610>"
      ]
     },
     "execution_count": 13,
     "metadata": {},
     "output_type": "execute_result"
    }
   ],
   "source": [
    "keras_nlp.layers.PositionEmbedding(sequence_length=10, initializer=\"glorot_uniform\")"
   ]
  },
  {
   "cell_type": "code",
   "execution_count": 20,
   "id": "c88cce4c-c8e8-4d45-a95b-4dcc7f6f8c68",
   "metadata": {},
   "outputs": [],
   "source": [
    "layer = keras_nlp.layers.PositionEmbedding(sequence_length=10)\n",
    "layer(np.zeros((8, 10, 16)))"
   ]
  },
  {
   "cell_type": "code",
   "execution_count": 16,
   "id": "1a1ad099-f823-43ac-bd2f-0d5fd62f764e",
   "metadata": {},
   "outputs": [],
   "source": [
    "seq_length = 50\n",
    "vocab_size = 5000\n",
    "embed_dim = 128\n",
    "inputs = keras.Input(shape=(seq_length,))\n",
    "token_embeddings = keras.layers.Embedding(input_dim=vocab_size, output_dim=embed_dim)(inputs)\n",
    "position_embeddings = keras_nlp.layers.PositionEmbedding(sequence_length=seq_length)(token_embeddings)\n",
    "outputs = token_embeddings + position_embeddings"
   ]
  },
  {
   "cell_type": "code",
   "execution_count": 17,
   "id": "c3a2ffbe-d6fc-492e-95df-b5e624a2764c",
   "metadata": {},
   "outputs": [
    {
     "data": {
      "text/plain": [
       "<KerasTensor: shape=(None, 50, 128) dtype=float32 (created by layer 'embedding')>"
      ]
     },
     "execution_count": 17,
     "metadata": {},
     "output_type": "execute_result"
    }
   ],
   "source": [
    "token_embeddings"
   ]
  },
  {
   "cell_type": "code",
   "execution_count": 18,
   "id": "3fabefec-bab4-4f10-a668-c97e2d79e67e",
   "metadata": {},
   "outputs": [
    {
     "data": {
      "text/plain": [
       "<KerasTensor: shape=(None, 50, 128) dtype=float32 (created by layer 'position_embedding_6')>"
      ]
     },
     "execution_count": 18,
     "metadata": {},
     "output_type": "execute_result"
    }
   ],
   "source": [
    "position_embeddings"
   ]
  },
  {
   "cell_type": "code",
   "execution_count": null,
   "id": "fadf0f7a-1a54-4b7a-9dc5-5b739b182202",
   "metadata": {},
   "outputs": [],
   "source": []
  }
 ],
 "metadata": {
  "kernelspec": {
   "display_name": "Python 3 (ipykernel)",
   "language": "python",
   "name": "python3"
  },
  "language_info": {
   "codemirror_mode": {
    "name": "ipython",
    "version": 3
   },
   "file_extension": ".py",
   "mimetype": "text/x-python",
   "name": "python",
   "nbconvert_exporter": "python",
   "pygments_lexer": "ipython3",
   "version": "3.9.17"
  }
 },
 "nbformat": 4,
 "nbformat_minor": 5
}
