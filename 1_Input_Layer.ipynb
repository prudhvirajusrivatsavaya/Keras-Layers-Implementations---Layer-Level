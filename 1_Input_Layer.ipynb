{
 "cells": [
  {
   "cell_type": "code",
   "execution_count": 1,
   "id": "923d4bbb-b731-4cf2-8c4e-6025e3a841b7",
   "metadata": {},
   "outputs": [],
   "source": [
    "from keras.models import Sequential \n",
    "from keras.layers import Activation, Dense, InputLayer\n",
    "import tensorflow as tf\n",
    "import numpy as np"
   ]
  },
  {
   "cell_type": "code",
   "execution_count": 2,
   "id": "9739d0e6-b54c-416a-b61d-acf4b8aff3a2",
   "metadata": {},
   "outputs": [
    {
     "name": "stdout",
     "output_type": "stream",
     "text": [
      "Model: \"sequential\"\n",
      "_________________________________________________________________\n",
      " Layer (type)                Output Shape              Param #   \n",
      "=================================================================\n",
      " dense (Dense)               (None, 7)                 35        \n",
      "                                                                 \n",
      " dense_1 (Dense)             (None, 10)                80        \n",
      "                                                                 \n",
      "=================================================================\n",
      "Total params: 115\n",
      "Trainable params: 115\n",
      "Non-trainable params: 0\n",
      "_________________________________________________________________\n",
      "1/1 [==============================] - 1s 829ms/step - loss: 1.0000\n"
     ]
    },
    {
     "data": {
      "text/plain": [
       "<keras.callbacks.History at 0x2b7b4e07f10>"
      ]
     },
     "execution_count": 2,
     "metadata": {},
     "output_type": "execute_result"
    }
   ],
   "source": [
    "model = Sequential()\n",
    "layer_1=InputLayer(input_shape=(4,))\n",
    "layer_2=Dense(7,activation='relu')\n",
    "layer_3=Dense(10,activation='relu')\n",
    "model.add(layer_1)\n",
    "model.add(layer_2)\n",
    "model.add(layer_3)\n",
    "model.compile(tf.keras.optimizers.RMSprop(0.001), loss='mse')\n",
    "model.summary()\n",
    "model.fit(np.zeros((10, 4)),\n",
    "          np.ones((10, 1)))"
   ]
  },
  {
   "cell_type": "code",
   "execution_count": 4,
   "id": "fa11c0d2-45ca-43f1-b0ba-a84b329d0fd1",
   "metadata": {},
   "outputs": [
    {
     "data": {
      "text/plain": [
       "[array([[-0.08762354, -0.50351214, -0.1487202 , -0.55893886, -0.17640322,\n",
       "          0.02421612, -0.64607376],\n",
       "        [-0.68824655, -0.29146373,  0.4971344 , -0.38893035,  0.19064963,\n",
       "         -0.42397752, -0.63313407],\n",
       "        [ 0.4672982 , -0.70705354,  0.23470968,  0.7334103 , -0.6434742 ,\n",
       "         -0.60393924,  0.34133404],\n",
       "        [-0.22630394, -0.54633784, -0.25405368, -0.6187061 , -0.38531622,\n",
       "          0.10183102,  0.6545184 ]], dtype=float32),\n",
       " array([0., 0., 0., 0., 0., 0., 0.], dtype=float32)]"
      ]
     },
     "execution_count": 4,
     "metadata": {},
     "output_type": "execute_result"
    }
   ],
   "source": [
    "layer_2.get_weights()"
   ]
  },
  {
   "cell_type": "code",
   "execution_count": 5,
   "id": "a0efcdc5-39d4-4960-be27-f85e6faaafc1",
   "metadata": {},
   "outputs": [
    {
     "data": {
      "text/plain": [
       "[array([[-2.79976308e-01,  7.83860683e-03,  5.00908017e-01,\n",
       "         -2.09223270e-01, -1.91426694e-01, -6.42723441e-02,\n",
       "         -4.69754726e-01, -9.74649489e-02,  3.67870986e-01,\n",
       "          2.38712251e-01],\n",
       "        [ 3.53954494e-01,  1.20812476e-01,  3.63378346e-01,\n",
       "         -4.43598568e-01, -5.91480792e-01,  5.72086573e-02,\n",
       "          7.90812969e-02, -3.26788336e-01, -4.95932519e-01,\n",
       "         -2.75534838e-01],\n",
       "        [-1.58971488e-01,  1.29550099e-01, -2.14921087e-01,\n",
       "         -5.05387545e-01,  1.15592480e-02,  4.13014889e-01,\n",
       "          3.04020286e-01,  3.48301470e-01,  1.27645552e-01,\n",
       "         -5.30420005e-01],\n",
       "        [ 1.43212974e-01, -3.22076082e-02, -2.72542387e-01,\n",
       "         -1.07046872e-01,  2.68026710e-01,  3.74520481e-01,\n",
       "         -5.62345207e-01, -3.45659852e-01,  1.51013196e-01,\n",
       "          5.58728099e-01],\n",
       "        [-5.81087708e-01,  6.55719042e-02, -5.38927734e-01,\n",
       "         -2.12767571e-01, -4.81170774e-01, -4.12757516e-01,\n",
       "         -5.72116256e-01, -5.70511162e-01,  5.21540642e-04,\n",
       "          4.13090348e-01],\n",
       "        [-3.79838824e-01, -4.30239499e-01, -4.20441300e-01,\n",
       "          5.18420100e-01, -2.56454557e-01,  3.47681224e-01,\n",
       "          5.46270013e-01,  2.46846557e-01, -3.70150805e-02,\n",
       "         -2.85228938e-01],\n",
       "        [ 3.08413565e-01,  5.72490692e-02, -2.19865382e-01,\n",
       "         -6.89879060e-02,  3.06275666e-01, -2.07302183e-01,\n",
       "         -4.94449973e-01, -5.94010770e-01,  9.66533422e-02,\n",
       "          2.93746829e-01]], dtype=float32),\n",
       " array([0., 0., 0., 0., 0., 0., 0., 0., 0., 0.], dtype=float32)]"
      ]
     },
     "execution_count": 5,
     "metadata": {},
     "output_type": "execute_result"
    }
   ],
   "source": [
    "layer_3.get_weights()"
   ]
  },
  {
   "cell_type": "code",
   "execution_count": 6,
   "id": "685432bb-0062-47f6-af62-6b18ade28d90",
   "metadata": {
    "scrolled": true
   },
   "outputs": [
    {
     "data": {
      "text/plain": [
       "array([[1.],\n",
       "       [1.],\n",
       "       [1.],\n",
       "       [1.]])"
      ]
     },
     "execution_count": 6,
     "metadata": {},
     "output_type": "execute_result"
    }
   ],
   "source": [
    "np.ones((4, 1))"
   ]
  },
  {
   "cell_type": "code",
   "execution_count": 7,
   "id": "7be87e49-f25d-4712-aa8e-9ae8136d11f0",
   "metadata": {
    "scrolled": true
   },
   "outputs": [
    {
     "data": {
      "text/plain": [
       "array([[0., 0., 0., 0.],\n",
       "       [0., 0., 0., 0.],\n",
       "       [0., 0., 0., 0.],\n",
       "       [0., 0., 0., 0.],\n",
       "       [0., 0., 0., 0.],\n",
       "       [0., 0., 0., 0.],\n",
       "       [0., 0., 0., 0.],\n",
       "       [0., 0., 0., 0.],\n",
       "       [0., 0., 0., 0.],\n",
       "       [0., 0., 0., 0.]])"
      ]
     },
     "execution_count": 7,
     "metadata": {},
     "output_type": "execute_result"
    }
   ],
   "source": [
    "np.zeros((10, 4))"
   ]
  },
  {
   "cell_type": "code",
   "execution_count": null,
   "id": "4fc0fdc9-83fd-4a22-9601-66db61bacd36",
   "metadata": {},
   "outputs": [],
   "source": []
  }
 ],
 "metadata": {
  "kernelspec": {
   "display_name": "Python 3 (ipykernel)",
   "language": "python",
   "name": "python3"
  },
  "language_info": {
   "codemirror_mode": {
    "name": "ipython",
    "version": 3
   },
   "file_extension": ".py",
   "mimetype": "text/x-python",
   "name": "python",
   "nbconvert_exporter": "python",
   "pygments_lexer": "ipython3",
   "version": "3.9.17"
  }
 },
 "nbformat": 4,
 "nbformat_minor": 5
}
