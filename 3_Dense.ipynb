{
 "cells": [
  {
   "cell_type": "code",
   "execution_count": 1,
   "id": "dbb037bb-cf10-4291-8abf-083b3757694b",
   "metadata": {},
   "outputs": [],
   "source": [
    "from keras.models import Sequential "
   ]
  },
  {
   "cell_type": "code",
   "execution_count": 2,
   "id": "d4aaacc6-7d27-4753-9c2e-e09c501da793",
   "metadata": {},
   "outputs": [],
   "source": [
    "from keras.layers import Activation, Dense "
   ]
  },
  {
   "cell_type": "code",
   "execution_count": 3,
   "id": "88516f9c-11cd-46da-a112-933658641749",
   "metadata": {},
   "outputs": [],
   "source": [
    "model = Sequential() "
   ]
  },
  {
   "cell_type": "code",
   "execution_count": 4,
   "id": "4ffdb151-10e3-4039-a146-5b407ccdb33e",
   "metadata": {},
   "outputs": [],
   "source": [
    "layer_1 = Dense(16, input_shape = (8,))"
   ]
  },
  {
   "cell_type": "code",
   "execution_count": 5,
   "id": "4f03fc60-df08-4b1e-b248-61f9c4c72cd3",
   "metadata": {},
   "outputs": [],
   "source": [
    "model.add(layer_1)"
   ]
  },
  {
   "cell_type": "code",
   "execution_count": 6,
   "id": "15a7d399-737a-4581-bc83-5129b396bc06",
   "metadata": {},
   "outputs": [],
   "source": [
    "Activation_1 = Activation(activation='relu')\n",
    "model.add(Activation_1)"
   ]
  },
  {
   "cell_type": "code",
   "execution_count": 7,
   "id": "55f19277-bc97-4573-825a-96a765e854d8",
   "metadata": {},
   "outputs": [
    {
     "data": {
      "text/plain": [
       "(None, 8)"
      ]
     },
     "execution_count": 7,
     "metadata": {},
     "output_type": "execute_result"
    }
   ],
   "source": [
    "layer_1.input_shape"
   ]
  },
  {
   "cell_type": "code",
   "execution_count": 8,
   "id": "6ebf54c7-bca3-4df3-9b7b-94361addc054",
   "metadata": {},
   "outputs": [
    {
     "data": {
      "text/plain": [
       "(None, 16)"
      ]
     },
     "execution_count": 8,
     "metadata": {},
     "output_type": "execute_result"
    }
   ],
   "source": [
    "layer_1.output_shape "
   ]
  },
  {
   "cell_type": "code",
   "execution_count": 9,
   "id": "3504ec19-3366-41af-aa8f-0060abf58fc5",
   "metadata": {
    "scrolled": true
   },
   "outputs": [
    {
     "data": {
      "text/plain": [
       "(8, 16)"
      ]
     },
     "execution_count": 9,
     "metadata": {},
     "output_type": "execute_result"
    }
   ],
   "source": [
    "layer_1.get_weights()[0].shape"
   ]
  },
  {
   "cell_type": "code",
   "execution_count": 10,
   "id": "e435f6c8-3711-4dbb-b811-bc34a224e19a",
   "metadata": {},
   "outputs": [
    {
     "name": "stdout",
     "output_type": "stream",
     "text": [
      "Model: \"sequential\"\n",
      "_________________________________________________________________\n",
      " Layer (type)                Output Shape              Param #   \n",
      "=================================================================\n",
      " dense (Dense)               (None, 16)                144       \n",
      "                                                                 \n",
      " activation (Activation)     (None, 16)                0         \n",
      "                                                                 \n",
      "=================================================================\n",
      "Total params: 144\n",
      "Trainable params: 144\n",
      "Non-trainable params: 0\n",
      "_________________________________________________________________\n"
     ]
    }
   ],
   "source": [
    "model.summary()"
   ]
  }
 ],
 "metadata": {
  "kernelspec": {
   "display_name": "Python 3 (ipykernel)",
   "language": "python",
   "name": "python3"
  },
  "language_info": {
   "codemirror_mode": {
    "name": "ipython",
    "version": 3
   },
   "file_extension": ".py",
   "mimetype": "text/x-python",
   "name": "python",
   "nbconvert_exporter": "python",
   "pygments_lexer": "ipython3",
   "version": "3.9.17"
  }
 },
 "nbformat": 4,
 "nbformat_minor": 5
}
