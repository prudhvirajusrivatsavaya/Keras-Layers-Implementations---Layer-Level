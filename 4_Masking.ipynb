{
 "cells": [
  {
   "cell_type": "code",
   "execution_count": 15,
   "id": "359f04a2-a3ff-4723-b007-b41c96e49095",
   "metadata": {},
   "outputs": [],
   "source": [
    "from keras.models import Sequential\n",
    "from keras.layers import Embedding, Dense, Masking, InputLayer, LSTM\n",
    "import numpy as np"
   ]
  },
  {
   "cell_type": "code",
   "execution_count": 16,
   "id": "a1401659-c42d-457b-a239-2b609124429f",
   "metadata": {},
   "outputs": [],
   "source": [
    "samples, timesteps, features = 32, 10, 8\n",
    "inputs = np.random.random([samples, timesteps, features]).astype(np.float32)"
   ]
  },
  {
   "cell_type": "code",
   "execution_count": 17,
   "id": "277e6ab3-ac8b-424c-afdc-fa057d39b379",
   "metadata": {},
   "outputs": [
    {
     "data": {
      "text/plain": [
       "(32, 10, 8)"
      ]
     },
     "execution_count": 17,
     "metadata": {},
     "output_type": "execute_result"
    }
   ],
   "source": [
    "inputs.shape"
   ]
  },
  {
   "cell_type": "code",
   "execution_count": 18,
   "id": "71f7270b-8270-472c-aecb-4f824d79a9e0",
   "metadata": {},
   "outputs": [],
   "source": [
    "inputs[:, 3, :] = 0.\n",
    "inputs[:, 5, :] = 0."
   ]
  },
  {
   "cell_type": "code",
   "execution_count": 23,
   "id": "d9478ca0-4138-4b07-9e95-2bf941b3809c",
   "metadata": {},
   "outputs": [
    {
     "data": {
      "text/html": [
       "<div>\n",
       "<style scoped>\n",
       "    .dataframe tbody tr th:only-of-type {\n",
       "        vertical-align: middle;\n",
       "    }\n",
       "\n",
       "    .dataframe tbody tr th {\n",
       "        vertical-align: top;\n",
       "    }\n",
       "\n",
       "    .dataframe thead th {\n",
       "        text-align: right;\n",
       "    }\n",
       "</style>\n",
       "<table border=\"1\" class=\"dataframe\">\n",
       "  <thead>\n",
       "    <tr style=\"text-align: right;\">\n",
       "      <th></th>\n",
       "      <th>0</th>\n",
       "      <th>1</th>\n",
       "      <th>2</th>\n",
       "      <th>3</th>\n",
       "      <th>4</th>\n",
       "      <th>5</th>\n",
       "      <th>6</th>\n",
       "      <th>7</th>\n",
       "    </tr>\n",
       "  </thead>\n",
       "  <tbody>\n",
       "    <tr>\n",
       "      <th>0</th>\n",
       "      <td>0.810055</td>\n",
       "      <td>0.313965</td>\n",
       "      <td>0.474389</td>\n",
       "      <td>0.481946</td>\n",
       "      <td>0.953900</td>\n",
       "      <td>0.075258</td>\n",
       "      <td>0.913826</td>\n",
       "      <td>0.403021</td>\n",
       "    </tr>\n",
       "    <tr>\n",
       "      <th>1</th>\n",
       "      <td>0.938088</td>\n",
       "      <td>0.455329</td>\n",
       "      <td>0.894359</td>\n",
       "      <td>0.942001</td>\n",
       "      <td>0.257611</td>\n",
       "      <td>0.086872</td>\n",
       "      <td>0.053192</td>\n",
       "      <td>0.656046</td>\n",
       "    </tr>\n",
       "    <tr>\n",
       "      <th>2</th>\n",
       "      <td>0.397886</td>\n",
       "      <td>0.018031</td>\n",
       "      <td>0.612302</td>\n",
       "      <td>0.494422</td>\n",
       "      <td>0.970654</td>\n",
       "      <td>0.836193</td>\n",
       "      <td>0.765367</td>\n",
       "      <td>0.150780</td>\n",
       "    </tr>\n",
       "    <tr>\n",
       "      <th>3</th>\n",
       "      <td>0.000000</td>\n",
       "      <td>0.000000</td>\n",
       "      <td>0.000000</td>\n",
       "      <td>0.000000</td>\n",
       "      <td>0.000000</td>\n",
       "      <td>0.000000</td>\n",
       "      <td>0.000000</td>\n",
       "      <td>0.000000</td>\n",
       "    </tr>\n",
       "    <tr>\n",
       "      <th>4</th>\n",
       "      <td>0.978830</td>\n",
       "      <td>0.487594</td>\n",
       "      <td>0.450855</td>\n",
       "      <td>0.251747</td>\n",
       "      <td>0.158666</td>\n",
       "      <td>0.824179</td>\n",
       "      <td>0.806250</td>\n",
       "      <td>0.938784</td>\n",
       "    </tr>\n",
       "    <tr>\n",
       "      <th>5</th>\n",
       "      <td>0.000000</td>\n",
       "      <td>0.000000</td>\n",
       "      <td>0.000000</td>\n",
       "      <td>0.000000</td>\n",
       "      <td>0.000000</td>\n",
       "      <td>0.000000</td>\n",
       "      <td>0.000000</td>\n",
       "      <td>0.000000</td>\n",
       "    </tr>\n",
       "    <tr>\n",
       "      <th>6</th>\n",
       "      <td>0.421865</td>\n",
       "      <td>0.874220</td>\n",
       "      <td>0.133664</td>\n",
       "      <td>0.149830</td>\n",
       "      <td>0.822309</td>\n",
       "      <td>0.382539</td>\n",
       "      <td>0.048038</td>\n",
       "      <td>0.323722</td>\n",
       "    </tr>\n",
       "    <tr>\n",
       "      <th>7</th>\n",
       "      <td>0.416639</td>\n",
       "      <td>0.513425</td>\n",
       "      <td>0.945593</td>\n",
       "      <td>0.229951</td>\n",
       "      <td>0.644487</td>\n",
       "      <td>0.232882</td>\n",
       "      <td>0.495086</td>\n",
       "      <td>0.215051</td>\n",
       "    </tr>\n",
       "    <tr>\n",
       "      <th>8</th>\n",
       "      <td>0.280693</td>\n",
       "      <td>0.604506</td>\n",
       "      <td>0.438829</td>\n",
       "      <td>0.633166</td>\n",
       "      <td>0.058462</td>\n",
       "      <td>0.650763</td>\n",
       "      <td>0.244104</td>\n",
       "      <td>0.959873</td>\n",
       "    </tr>\n",
       "    <tr>\n",
       "      <th>9</th>\n",
       "      <td>0.543794</td>\n",
       "      <td>0.740709</td>\n",
       "      <td>0.376343</td>\n",
       "      <td>0.126294</td>\n",
       "      <td>0.925104</td>\n",
       "      <td>0.945236</td>\n",
       "      <td>0.751177</td>\n",
       "      <td>0.239568</td>\n",
       "    </tr>\n",
       "  </tbody>\n",
       "</table>\n",
       "</div>"
      ],
      "text/plain": [
       "          0         1         2         3         4         5         6  \\\n",
       "0  0.810055  0.313965  0.474389  0.481946  0.953900  0.075258  0.913826   \n",
       "1  0.938088  0.455329  0.894359  0.942001  0.257611  0.086872  0.053192   \n",
       "2  0.397886  0.018031  0.612302  0.494422  0.970654  0.836193  0.765367   \n",
       "3  0.000000  0.000000  0.000000  0.000000  0.000000  0.000000  0.000000   \n",
       "4  0.978830  0.487594  0.450855  0.251747  0.158666  0.824179  0.806250   \n",
       "5  0.000000  0.000000  0.000000  0.000000  0.000000  0.000000  0.000000   \n",
       "6  0.421865  0.874220  0.133664  0.149830  0.822309  0.382539  0.048038   \n",
       "7  0.416639  0.513425  0.945593  0.229951  0.644487  0.232882  0.495086   \n",
       "8  0.280693  0.604506  0.438829  0.633166  0.058462  0.650763  0.244104   \n",
       "9  0.543794  0.740709  0.376343  0.126294  0.925104  0.945236  0.751177   \n",
       "\n",
       "          7  \n",
       "0  0.403021  \n",
       "1  0.656046  \n",
       "2  0.150780  \n",
       "3  0.000000  \n",
       "4  0.938784  \n",
       "5  0.000000  \n",
       "6  0.323722  \n",
       "7  0.215051  \n",
       "8  0.959873  \n",
       "9  0.239568  "
      ]
     },
     "execution_count": 23,
     "metadata": {},
     "output_type": "execute_result"
    }
   ],
   "source": [
    "import pandas as pd\n",
    "pd.DataFrame(inputs[0])"
   ]
  },
  {
   "cell_type": "code",
   "execution_count": 11,
   "id": "1626174e-8aad-40bb-a148-9104b163825f",
   "metadata": {},
   "outputs": [],
   "source": [
    "model = Sequential()\n",
    "model.add(Masking(mask_value=0.,input_shape=(timesteps, features)))\n",
    "model.add(LSTM(32))\n",
    "output = model(inputs)"
   ]
  },
  {
   "cell_type": "code",
   "execution_count": null,
   "id": "ee3fb839-af87-4841-a220-2ae0699bc9eb",
   "metadata": {},
   "outputs": [],
   "source": []
  },
  {
   "cell_type": "code",
   "execution_count": 11,
   "id": "b29e7ee1-c9c1-4618-827a-2208c65a9cf6",
   "metadata": {},
   "outputs": [
    {
     "name": "stdout",
     "output_type": "stream",
     "text": [
      "Model: \"sequential_2\"\n",
      "_________________________________________________________________\n",
      " Layer (type)                Output Shape              Param #   \n",
      "=================================================================\n",
      " embedding_2 (Embedding)     (None, 4, 4)              80        \n",
      "                                                                 \n",
      " masking_1 (Masking)         (None, 4, 4)              0         \n",
      "                                                                 \n",
      " dense_2 (Dense)             (None, 4, 10)             50        \n",
      "                                                                 \n",
      "=================================================================\n",
      "Total params: 130\n",
      "Trainable params: 130\n",
      "Non-trainable params: 0\n",
      "_________________________________________________________________\n"
     ]
    }
   ],
   "source": [
    "model = Sequential()\n",
    "input_layer = InputLayer(input_shape=(4,))\n",
    "model.add(input_layer)\n",
    "embedding = Embedding(input_dim=20, output_dim=4, input_length=4)\n",
    "model.add(embedding)\n",
    "masking = Masking(mask_value=0)\n",
    "model.add(masking)  # Assuming 0 is used as the padding value in your sequences\n",
    "dense_1 = Dense(10)\n",
    "model.add(dense_1)\n",
    "model.compile('adam','mse')\n",
    "model.summary()"
   ]
  },
  {
   "cell_type": "code",
   "execution_count": 12,
   "id": "3262b838-7dfd-4ee2-b472-3597c98c19e0",
   "metadata": {},
   "outputs": [
    {
     "data": {
      "text/plain": [
       "array([[8, 1, 6, 7],\n",
       "       [6, 1, 9, 8],\n",
       "       [6, 6, 7, 8],\n",
       "       [6, 3, 5, 1],\n",
       "       [1, 6, 1, 9],\n",
       "       [6, 6, 1, 7],\n",
       "       [5, 0, 3, 8],\n",
       "       [2, 8, 7, 7],\n",
       "       [9, 5, 4, 6],\n",
       "       [9, 5, 1, 2]])"
      ]
     },
     "execution_count": 12,
     "metadata": {},
     "output_type": "execute_result"
    }
   ],
   "source": [
    "input_shape = np.random.randint(0, 10, size=(10, 4))\n",
    "input_shape"
   ]
  },
  {
   "cell_type": "code",
   "execution_count": 13,
   "id": "4380e6ca-a62c-4eb2-aaaa-183a04a7b64b",
   "metadata": {
    "scrolled": true
   },
   "outputs": [
    {
     "name": "stdout",
     "output_type": "stream",
     "text": [
      "1/1 [==============================] - 1s 1s/step - loss: 28.4810\n"
     ]
    },
    {
     "data": {
      "text/plain": [
       "<keras.callbacks.History at 0x1924a094190>"
      ]
     },
     "execution_count": 13,
     "metadata": {},
     "output_type": "execute_result"
    }
   ],
   "source": [
    "model.fit(input_shape,np.array(range(0,10)))"
   ]
  },
  {
   "cell_type": "code",
   "execution_count": null,
   "id": "265c8cde-8719-4242-85d3-926eb15f514e",
   "metadata": {},
   "outputs": [],
   "source": []
  }
 ],
 "metadata": {
  "kernelspec": {
   "display_name": "Python 3 (ipykernel)",
   "language": "python",
   "name": "python3"
  },
  "language_info": {
   "codemirror_mode": {
    "name": "ipython",
    "version": 3
   },
   "file_extension": ".py",
   "mimetype": "text/x-python",
   "name": "python",
   "nbconvert_exporter": "python",
   "pygments_lexer": "ipython3",
   "version": "3.9.17"
  }
 },
 "nbformat": 4,
 "nbformat_minor": 5
}
