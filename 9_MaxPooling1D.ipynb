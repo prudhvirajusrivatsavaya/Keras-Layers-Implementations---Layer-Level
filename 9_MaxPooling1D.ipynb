{
 "cells": [
  {
   "cell_type": "code",
   "execution_count": 4,
   "id": "daa4ddf3-e886-4d6a-8385-98aff1c92f98",
   "metadata": {},
   "outputs": [],
   "source": [
    "from keras.layers import InputLayer, Dense, Activation, Masking, Embedding, LSTM, Flatten, Bidirectional\n",
    "from keras.models import Sequential\n",
    "import numpy as np"
   ]
  },
  {
   "cell_type": "code",
   "execution_count": 9,
   "id": "ba10ae96-1be3-41e0-af4c-d2d97e5982be",
   "metadata": {},
   "outputs": [],
   "source": [
    "model = Sequential()\n",
    "input_layer = InputLayer(input_shape=(20,))\n",
    "layer_1 = Embedding(input_dim=100, output_dim=512, input_length=20)\n",
    "layer_7 = MaxPooling1D(2,input_shape=(20, 512))\n",
    "layer_2 = LSTM(units=20, input_shape=(20,512), return_sequences=True)\n",
    "layer_6 = Bidirectional(LSTM(units=20, input_shape=(20,512)))\n",
    "layer_3 = Dense(units = 256)\n",
    "layer_4 = Dense(units = 128)\n",
    "flatten = Flatten()\n",
    "layer_5 = Dense(3, activation='softmax')\n",
    "\n",
    "model.add(input_layer)\n",
    "model.add(layer_1)\n",
    "model.add(layer_7)\n",
    "model.add(layer_2)\n",
    "model.add(layer_6)\n",
    "model.add(layer_3)\n",
    "model.add(layer_4)\n",
    "model.add(Flatten())\n",
    "model.add(layer_5)\n",
    "\n",
    "model.compile(optimizer='adam',loss='sparse_categorical_crossentropy')"
   ]
  },
  {
   "cell_type": "code",
   "execution_count": 10,
   "id": "40810397-7759-47d3-b53a-52697a2e70dd",
   "metadata": {},
   "outputs": [
    {
     "name": "stdout",
     "output_type": "stream",
     "text": [
      "Model: \"sequential_2\"\n",
      "_________________________________________________________________\n",
      " Layer (type)                Output Shape              Param #   \n",
      "=================================================================\n",
      " embedding_2 (Embedding)     (None, 20, 512)           51200     \n",
      "                                                                 \n",
      " max_pooling1d_1 (MaxPooling  (None, 10, 512)          0         \n",
      " 1D)                                                             \n",
      "                                                                 \n",
      " lstm_4 (LSTM)               (None, 10, 20)            42640     \n",
      "                                                                 \n",
      " bidirectional_2 (Bidirectio  (None, 40)               6560      \n",
      " nal)                                                            \n",
      "                                                                 \n",
      " dense_6 (Dense)             (None, 256)               10496     \n",
      "                                                                 \n",
      " dense_7 (Dense)             (None, 128)               32896     \n",
      "                                                                 \n",
      " flatten_5 (Flatten)         (None, 128)               0         \n",
      "                                                                 \n",
      " dense_8 (Dense)             (None, 3)                 387       \n",
      "                                                                 \n",
      "=================================================================\n",
      "Total params: 144,179\n",
      "Trainable params: 144,179\n",
      "Non-trainable params: 0\n",
      "_________________________________________________________________\n"
     ]
    }
   ],
   "source": [
    "model.summary()"
   ]
  },
  {
   "cell_type": "code",
   "execution_count": 11,
   "id": "4fc57c98-5370-44d5-a170-b7950b75675f",
   "metadata": {},
   "outputs": [],
   "source": [
    "input_shape = np.random.randint(0, 20, size=(1000, 20))\n",
    "output_data = np.random.randint(0, 3, size=(1000,))"
   ]
  },
  {
   "cell_type": "code",
   "execution_count": 12,
   "id": "42f5f1bc-b446-4ca8-a2a5-0adad376a687",
   "metadata": {},
   "outputs": [
    {
     "name": "stdout",
     "output_type": "stream",
     "text": [
      "32/32 [==============================] - 6s 14ms/step - loss: 1.1016\n"
     ]
    },
    {
     "data": {
      "text/plain": [
       "<keras.callbacks.History at 0x282faabbbb0>"
      ]
     },
     "execution_count": 12,
     "metadata": {},
     "output_type": "execute_result"
    }
   ],
   "source": [
    "model.fit(input_shape, output_data)"
   ]
  },
  {
   "cell_type": "code",
   "execution_count": 15,
   "id": "63a6dd50-83fe-4125-8bdf-3cc7398132c2",
   "metadata": {},
   "outputs": [
    {
     "name": "stderr",
     "output_type": "stream",
     "text": [
      "C:\\Users\\User\\AppData\\Local\\Temp\\ipykernel_12576\\1379557700.py:67: UserWarning: nn.init.xavier_normal is now deprecated in favor of nn.init.xavier_normal_.\n",
      "  nn.init.xavier_normal(layer.weight)\n"
     ]
    },
    {
     "name": "stdout",
     "output_type": "stream",
     "text": [
      "Epoch [1/10], Loss: 1.0996\n",
      "Epoch [2/10], Loss: 1.0927\n",
      "Epoch [3/10], Loss: 1.0722\n",
      "Epoch [4/10], Loss: 1.1935\n",
      "Epoch [5/10], Loss: 0.9998\n",
      "Epoch [6/10], Loss: 1.0476\n",
      "Epoch [7/10], Loss: 1.0952\n",
      "Epoch [8/10], Loss: 0.8850\n",
      "Epoch [9/10], Loss: 0.9818\n",
      "Epoch [10/10], Loss: 1.1600\n",
      "Predicted class: 0\n"
     ]
    }
   ],
   "source": [
    "import numpy as np\n",
    "import torch\n",
    "import torch.nn as nn\n",
    "import torch.optim as optim\n",
    "from torch.utils.data import DataLoader, TensorDataset\n",
    "\n",
    "# Generate sample dataset\n",
    "input_data = np.random.randint(0, 20, size=(1000, 20))\n",
    "output_data = np.random.randint(0, 3, size=(1000,))\n",
    "\n",
    "# Convert data to PyTorch tensors\n",
    "x = torch.tensor(input_data, dtype=torch.float32)\n",
    "y = torch.tensor(output_data, dtype=torch.long)\n",
    "\n",
    "# Create DataLoader for batching\n",
    "dataset = TensorDataset(x, y)\n",
    "batch_size = 16\n",
    "dataloader = DataLoader(dataset, batch_size=batch_size, shuffle=True)\n",
    "\n",
    "# Hyperparameters\n",
    "input_size = 20\n",
    "embedding_dim = 32\n",
    "hidden_size = 50\n",
    "output_size = 3  # 3 classes\n",
    "learning_rate = 0.001\n",
    "epochs = 10\n",
    "weight_decay = 1e-5  # L2 regularization strength\n",
    "\n",
    "# Define LSTM model with regularization for specific layers\n",
    "class LSTMModel(nn.Module):\n",
    "    def __init__(self, input_size, embedding_dim, hidden_size, output_size):\n",
    "        super(LSTMModel, self).__init__()\n",
    "        self.embedding = nn.Embedding(input_size, embedding_dim)\n",
    "        self.lstm_1 = nn.LSTM(embedding_dim, hidden_size, batch_first=True)\n",
    "        self.lstm_2 = nn.LSTM(hidden_size, hidden_size, batch_first=True)\n",
    "        self.maxpool1d = nn.MaxPool1d(kernel_size=2)  # Adjust kernel_size as needed\n",
    "        self.fc1 = nn.Linear(hidden_size, 64)\n",
    "        self.relu = nn.ReLU()\n",
    "        self.fc2 = nn.Linear(64, output_size)\n",
    "\n",
    "        # Apply L2 regularization to specific layers\n",
    "        self.init_weights(self.fc1)\n",
    "        self.init_weights(self.fc2)\n",
    "\n",
    "        # Apply separate initialization for each layer\n",
    "        self.init_weights(self.embedding)\n",
    "        self.init_weights(self.lstm_1)\n",
    "        self.init_weights(self.lstm_2)\n",
    "        self.init_weights(self.fc1)\n",
    "        self.init_weights(self.fc2)\n",
    "\n",
    "    def forward(self, x):\n",
    "        out = self.embedding(x)\n",
    "        out, _ = self.lstm_1(out)\n",
    "        out, _ = self.lstm_2(out)\n",
    "        out = self.maxpool1d(out.transpose(1, 2)).transpose(1, 2)\n",
    "        out = self.fc1(out[:, -1, :])\n",
    "        out = self.relu(out)\n",
    "        out = self.fc2(out)\n",
    "        return out\n",
    "\n",
    "    def init_weights(self, layer):\n",
    "        if isinstance(layer, nn.Linear):\n",
    "            nn.init.xavier_normal_(layer.weight)\n",
    "            layer.bias.data.fill_(0.01)\n",
    "        elif isinstance(layer, nn.Embedding):\n",
    "            nn.init.xavier_normal(layer.weight)\n",
    "        elif isinstance(layer, nn.LSTM):\n",
    "            for name, param in layer.named_parameters():\n",
    "                if 'weight' in name:\n",
    "                    nn.init.xavier_normal_(param)\n",
    "                elif 'bias' in name:\n",
    "                    param.data.fill_(0.01)\n",
    "\n",
    "# Create an instance of the model\n",
    "model = LSTMModel(input_size, embedding_dim, hidden_size, output_size)\n",
    "\n",
    "# Define loss function and optimizer with weight decay for regularization\n",
    "criterion = nn.CrossEntropyLoss()\n",
    "optimizer = optim.Adam(model.parameters(), lr=learning_rate, weight_decay=weight_decay)\n",
    "\n",
    "# Training loop\n",
    "for epoch in range(epochs):\n",
    "    model.train()\n",
    "    for inputs, labels in dataloader:\n",
    "        # Forward pass\n",
    "        outputs = model(inputs.long())\n",
    "\n",
    "        # Calculate the loss\n",
    "        loss = criterion(outputs, labels)\n",
    "\n",
    "        # Backward pass and optimization\n",
    "        optimizer.zero_grad()\n",
    "        loss.backward()\n",
    "        optimizer.step()\n",
    "\n",
    "    print(f'Epoch [{epoch+1}/{epochs}], Loss: {loss.item():.4f}')\n",
    "\n",
    "# Testing the model\n",
    "model.eval()\n",
    "with torch.no_grad():\n",
    "    test_sequence = torch.randint(0, 20, (1, 20))  # Replace with your test sequence\n",
    "    output = model(test_sequence.long())\n",
    "    predicted_class = torch.argmax(output).item()\n",
    "    print(f\"Predicted class: {predicted_class}\")\n"
   ]
  },
  {
   "cell_type": "code",
   "execution_count": null,
   "id": "2d4e0ff9-218e-4af5-9e7f-cfa3a6f12741",
   "metadata": {},
   "outputs": [],
   "source": []
  }
 ],
 "metadata": {
  "kernelspec": {
   "display_name": "Python 3 (ipykernel)",
   "language": "python",
   "name": "python3"
  },
  "language_info": {
   "codemirror_mode": {
    "name": "ipython",
    "version": 3
   },
   "file_extension": ".py",
   "mimetype": "text/x-python",
   "name": "python",
   "nbconvert_exporter": "python",
   "pygments_lexer": "ipython3",
   "version": "3.9.17"
  }
 },
 "nbformat": 4,
 "nbformat_minor": 5
}
